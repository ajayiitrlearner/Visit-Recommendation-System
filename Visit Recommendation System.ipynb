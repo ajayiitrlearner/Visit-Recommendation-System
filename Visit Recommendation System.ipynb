{
 "cells": [
  {
   "cell_type": "code",
   "execution_count": null,
   "id": "d447ea08",
   "metadata": {},
   "outputs": [],
   "source": [
    "# Intitial Data Sourcing, Cleaning , Modifying steps are removed to secure those APIs and as data is confidentails"
   ]
  },
  {
   "cell_type": "markdown",
   "id": "c438cbc9",
   "metadata": {},
   "source": [
    "# Train Test Split"
   ]
  },
  {
   "cell_type": "code",
   "execution_count": null,
   "id": "d0b5f94c",
   "metadata": {},
   "outputs": [],
   "source": [
    "from sklearn.model_selection import train_test_split"
   ]
  },
  {
   "cell_type": "code",
   "execution_count": null,
   "id": "777728b5",
   "metadata": {},
   "outputs": [],
   "source": [
    "X_train, X_test, y_train, y_test = train_test_split(Final_Data,Target,test_size=0.2, random_state=42)"
   ]
  },
  {
   "cell_type": "code",
   "execution_count": null,
   "id": "6c3df284",
   "metadata": {},
   "outputs": [],
   "source": [
    "Final_Data.columns"
   ]
  },
  {
   "cell_type": "code",
   "execution_count": null,
   "id": "8e042dc2",
   "metadata": {},
   "outputs": [],
   "source": [
    "print(X_train.shape, X_test.shape, y_train.shape, y_test.shape)"
   ]
  },
  {
   "cell_type": "code",
   "execution_count": null,
   "id": "30123b5c",
   "metadata": {},
   "outputs": [],
   "source": [
    "ER_Names_Train,ER_Names_Test=train_test_split(ER_Names,test_size=0.2, random_state=42)"
   ]
  },
  {
   "cell_type": "markdown",
   "id": "6f02cecd",
   "metadata": {},
   "source": [
    "# Randomforest Training"
   ]
  },
  {
   "cell_type": "code",
   "execution_count": null,
   "id": "280a1600",
   "metadata": {},
   "outputs": [],
   "source": [
    "from sklearn.model_selection import RandomizedSearchCV\n",
    "from sklearn.metrics import roc_auc_score\n",
    "from sklearn.model_selection import StratifiedKFold"
   ]
  },
  {
   "cell_type": "code",
   "execution_count": null,
   "id": "4bd20a0b",
   "metadata": {},
   "outputs": [],
   "source": [
    "import gc\n",
    "gc.collect()"
   ]
  },
  {
   "cell_type": "code",
   "execution_count": null,
   "id": "de5a21a2",
   "metadata": {},
   "outputs": [],
   "source": [
    "model=RandomForestClassifier(n_estimators=100, criterion='gini', max_depth=6,n_jobs=-1, random_state=42, verbose=1)"
   ]
  },
  {
   "cell_type": "code",
   "execution_count": null,
   "id": "9470ab4a",
   "metadata": {},
   "outputs": [],
   "source": [
    "\n",
    "model.fit(X_train, y_train)"
   ]
  },
  {
   "cell_type": "code",
   "execution_count": null,
   "id": "97c0fdc0",
   "metadata": {},
   "outputs": [],
   "source": [
    "from sklearn.ensemble import RandomForestClassifier"
   ]
  },
  {
   "cell_type": "code",
   "execution_count": null,
   "id": "d2c75f4c",
   "metadata": {},
   "outputs": [],
   "source": [
    "# Number of trees in random forest\n",
    "n_estimators = [200,400,600]\n",
    "# Number of features to consider at every split\n",
    "max_features = ['auto', 'sqrt']\n",
    "# Maximum number of levels in tree\n",
    "max_depth = [2,4]\n",
    "# Minimum number of samples required to split a node\n",
    "min_samples_split = [2, 5]\n",
    "# Minimum number of samples required at each leaf node\n",
    "min_samples_leaf = [1, 2]\n",
    "# Method of selecting samples for training each tree\n",
    "bootstrap = [True, False]\n",
    "\n",
    "# Create the param grid\n",
    "param_grid = {'n_estimators': n_estimators,\n",
    "               'max_features': max_features,\n",
    "               'max_depth': max_depth,\n",
    "               'min_samples_split': min_samples_split,\n",
    "               'min_samples_leaf': min_samples_leaf,\n",
    "               'bootstrap': bootstrap}\n",
    "print(param_grid)\n",
    "\n",
    "rf_Model=RandomForestClassifier()\n",
    "\n",
    "param_comb = 3\n",
    "\n",
    "rf_RandomGrid = RandomizedSearchCV(estimator = rf_Model, param_distributions = param_grid,n_iter=param_comb, cv = 5, verbose=10, n_jobs = -1)"
   ]
  },
  {
   "cell_type": "code",
   "execution_count": null,
   "id": "397d7f86",
   "metadata": {},
   "outputs": [],
   "source": [
    "rf_RandomGrid.fit(X_train,y_train)"
   ]
  },
  {
   "cell_type": "code",
   "execution_count": null,
   "id": "a47ed980",
   "metadata": {},
   "outputs": [],
   "source": [
    "rf_RandomGrid.best_estimator_"
   ]
  },
  {
   "cell_type": "code",
   "execution_count": null,
   "id": "2c3111ad",
   "metadata": {},
   "outputs": [],
   "source": [
    "best_RF_model=RandomForestClassifier(max_depth=4, max_features='sqrt',n_estimators=200,verbose=0,n_jobs=-1)"
   ]
  },
  {
   "cell_type": "code",
   "execution_count": null,
   "id": "f2d49a89",
   "metadata": {},
   "outputs": [],
   "source": [
    "best_RF_model.fit(X_train,y_train)"
   ]
  },
  {
   "cell_type": "code",
   "execution_count": null,
   "id": "331aa932",
   "metadata": {},
   "outputs": [],
   "source": [
    "from sklearn.metrics import (confusion_matrix, precision_recall_curve, auc,\n",
    "                             roc_curve, recall_score, classification_report, f1_score,\n",
    "                             precision_recall_fscore_support,accuracy_score)"
   ]
  },
  {
   "cell_type": "code",
   "execution_count": null,
   "id": "f05a97d1",
   "metadata": {},
   "outputs": [],
   "source": [
    "X_test.shape"
   ]
  },
  {
   "cell_type": "code",
   "execution_count": null,
   "id": "f758cfb3",
   "metadata": {},
   "outputs": [],
   "source": [
    "ypreds_test  = best_RF_model.predict(X_test)"
   ]
  },
  {
   "cell_type": "code",
   "execution_count": null,
   "id": "35d83c5d",
   "metadata": {},
   "outputs": [],
   "source": [
    "ypreds_test_proba  = best_RF_model.predict_proba(X_test)"
   ]
  },
  {
   "cell_type": "code",
   "execution_count": null,
   "id": "bf08cfe4",
   "metadata": {},
   "outputs": [],
   "source": [
    "ypreds_test_proba.shape,X_test.shape"
   ]
  },
  {
   "cell_type": "code",
   "execution_count": null,
   "id": "a51db19a",
   "metadata": {},
   "outputs": [],
   "source": [
    "ypreds_test_proba[0]"
   ]
  },
  {
   "cell_type": "code",
   "execution_count": null,
   "id": "40954340",
   "metadata": {},
   "outputs": [],
   "source": [
    "best_RF_model.classes_"
   ]
  },
  {
   "cell_type": "code",
   "execution_count": null,
   "id": "051ed663",
   "metadata": {},
   "outputs": [],
   "source": [
    "Top_K=50\n",
    "top_k_recom_prob=[]\n",
    "for i in range(X_test.shape[0]):\n",
    "    ypreds_test_proba_top_k=(-ypreds_test_proba[i]).argsort()[:Top_K]# indices\n",
    "    cls=[]\n",
    "    for j in ypreds_test_proba_top_k:\n",
    "        cls.append(best_RF_model.classes_[j])\n",
    "    top_k_recom_prob.append(cls)"
   ]
  },
  {
   "cell_type": "code",
   "execution_count": null,
   "id": "6f6febe9",
   "metadata": {},
   "outputs": [],
   "source": [
    "len(top_k_recom_prob)"
   ]
  },
  {
   "cell_type": "code",
   "execution_count": null,
   "id": "daa15d5a",
   "metadata": {
    "scrolled": true
   },
   "outputs": [],
   "source": [
    "top_k_recom_prob[:5]"
   ]
  },
  {
   "cell_type": "code",
   "execution_count": null,
   "id": "1984b195",
   "metadata": {},
   "outputs": [],
   "source": [
    "import numpy as np\n",
    "def Mean_Accuracy(y_true_list, y_reco_list, users):\n",
    "    Accuracy_all = list()\n",
    "    for u in range(users.shape[0]):\n",
    "        y_true = y_true_list[u]\n",
    "        y_reco = y_reco_list[u]\n",
    "        common_items = set(y_reco).intersection(y_true)\n",
    "        if len(common_items)==0:\n",
    "            acc=0\n",
    "        else:\n",
    "            acc=1\n",
    "        Accuracy_all.append(acc)\n",
    "    return np.mean(Accuracy_all)"
   ]
  },
  {
   "cell_type": "code",
   "execution_count": null,
   "id": "b2a8e05d",
   "metadata": {},
   "outputs": [],
   "source": [
    "print(\"Top 50 Test Accuracy\",Mean_Accuracy(y_test.values, top_k_recom_prob, X_test))"
   ]
  },
  {
   "cell_type": "code",
   "execution_count": null,
   "id": "89e79944",
   "metadata": {},
   "outputs": [],
   "source": [
    "X_train.shape[0]"
   ]
  },
  {
   "cell_type": "code",
   "execution_count": null,
   "id": "4afc7bd2",
   "metadata": {},
   "outputs": [],
   "source": [
    "ypreds_test_proba  = best_RF_model.predict_proba(X_train)"
   ]
  },
  {
   "cell_type": "code",
   "execution_count": null,
   "id": "41e0e8c3",
   "metadata": {},
   "outputs": [],
   "source": [
    "ypreds_test  = best_RF_model.predict(X_test)"
   ]
  },
  {
   "cell_type": "code",
   "execution_count": null,
   "id": "d8c79c24",
   "metadata": {},
   "outputs": [],
   "source": [
    "Top_K=50\n",
    "top_k_recom_prob=[]\n",
    "for i in range(X_train.shape[0]):\n",
    "    ypreds_test_proba_top_k=(-ypreds_test_proba[i]).argsort()[:Top_K]# indices\n",
    "    cls=[]\n",
    "    for j in ypreds_test_proba_top_k:\n",
    "        cls.append(best_RF_model.classes_[j])\n",
    "    top_k_recom_prob.append(cls)"
   ]
  },
  {
   "cell_type": "code",
   "execution_count": null,
   "id": "cf2a0e19",
   "metadata": {},
   "outputs": [],
   "source": [
    "print(\"Top 50 Train Accuracy\",Mean_Accuracy(y_train.values, top_k_recom_prob, X_train))"
   ]
  },
  {
   "cell_type": "code",
   "execution_count": null,
   "id": "3d49ecc7",
   "metadata": {},
   "outputs": [],
   "source": [
    "ypreds_train=best_RF_model.predict(X_train)"
   ]
  },
  {
   "cell_type": "code",
   "execution_count": null,
   "id": "1fb1a551",
   "metadata": {},
   "outputs": [],
   "source": [
    "accuracy = accuracy_score(y_train, ypreds_train)\n",
    "print(\"Accuracy: %.2f%%\" % (accuracy * 100.0))"
   ]
  },
  {
   "cell_type": "code",
   "execution_count": null,
   "id": "23ce9ca7",
   "metadata": {},
   "outputs": [],
   "source": [
    "accuracy = accuracy_score(y_test, ypreds_test)\n",
    "print(\"Accuracy: %.2f%%\" % (accuracy * 100.0))"
   ]
  },
  {
   "cell_type": "code",
   "execution_count": null,
   "id": "c83402c8",
   "metadata": {},
   "outputs": [],
   "source": [
    "print(classification_report(y_train,ypreds_train))"
   ]
  },
  {
   "cell_type": "code",
   "execution_count": null,
   "id": "dd5ec561",
   "metadata": {},
   "outputs": [],
   "source": [
    "print(classification_report(y_test,ypreds_test))"
   ]
  },
  {
   "cell_type": "markdown",
   "id": "71c647f3",
   "metadata": {},
   "source": [
    "# Model Saving"
   ]
  },
  {
   "cell_type": "code",
   "execution_count": null,
   "id": "97634f5a",
   "metadata": {},
   "outputs": [],
   "source": [
    "import joblib\n",
    "\n",
    "model_save_path='./python_data/models/'\n",
    "#joblib.dump(best_RF_model, model_save_path+'RF_VRM_20_04_2023.pkl')\n",
    "#joblib.dump(best_RF_model, model_save_path+'RF_VRM_12_12_2023.pkl')\n"
   ]
  },
  {
   "cell_type": "markdown",
   "id": "79f36f7e",
   "metadata": {},
   "source": [
    "# Model Loading"
   ]
  },
  {
   "cell_type": "code",
   "execution_count": 147,
   "id": "56931482",
   "metadata": {},
   "outputs": [],
   "source": [
    "import joblib\n",
    "\n",
    "model_save_path='./python_data/models/'\n",
    "model=joblib.load( model_save_path+'RF_VRM_12_12_2023.pkl')"
   ]
  },
  {
   "cell_type": "markdown",
   "id": "bbeff9fc",
   "metadata": {},
   "source": [
    "# Class Recommendations"
   ]
  },
  {
   "cell_type": "code",
   "execution_count": 148,
   "id": "10cb1f93",
   "metadata": {},
   "outputs": [],
   "source": [
    "class Recommendation_System:\n",
    "    def __init__(self, model,K_recommends):\n",
    "        self.model=model\n",
    "        self.K_recommends=K_recommends\n",
    "        \n",
    "    def Top_K_Rec(rec_list,K_recommends,SOL_IDs_Allocated_to_ER_ID):\n",
    "        final_dic={k: v for k, v in sorted(rec_list.items(), key=lambda item: item[1],reverse=True)}\n",
    "        solid_numbers=list(final_dic.keys())# sorted solid based on high prob score\n",
    "        score=list(final_dic.values())\n",
    "        #print(\"Top\",K,\"Recommendations\")\n",
    "        TOP_K=[]\n",
    "        for index in range(len(solid_numbers)):\n",
    "            if solid_numbers[index] in SOL_IDs_Allocated_to_ER_ID:#check condition for solid allocated\n",
    "                TOP_K.append(solid_numbers[index])   \n",
    "            if len(TOP_K)==K_recommends:\n",
    "                break\n",
    "        return TOP_K \n",
    "    \n",
    "        #############################################################################################################\n",
    "    def Solid_recommendations(ERName_Test,testing_data,SOL_ID_list_asper_RF_model,SOL_IDs_Allocated_to_ER_ID):\n",
    "        #INPUT\n",
    "        ERName_Test=ERName_Test[['ER ID']]# using er id and not er name\n",
    "        ERName_Test_LIST=[]\n",
    "        Recommendation_List=[]\n",
    "        for each_user_index in tqdm(range(ERName_Test.shape[0])):\n",
    "            user_sample=testing_data[each_user_index:each_user_index+1] #current user features\n",
    "            Name=ERName_Test.iloc[each_user_index][0] # Current user UCIC value\n",
    "            #customers features input\n",
    "            # solid recommendations\n",
    "            prediction_prob=model.predict_proba(user_sample)[0]\n",
    "            tup_logo_score_dic={} #empty dic\n",
    "            #all logo with prob\n",
    "            for l_index in range(0,len(SOL_ID_list_asper_RF_model)):\n",
    "\n",
    "                solid_number=SOL_ID_list_asper_RF_model[l_index]\n",
    "                tup_logo_score_dic[str(solid_number)]=prediction_prob[l_index]\n",
    "\n",
    "            #OUTPUT\n",
    "            K=K_recommends #no of recomm\n",
    "            TOP_K=Top_K_Rec(tup_logo_score_dic,K_recommends,SOL_IDs_Allocated_to_ER_ID) # Top K solid outputs\n",
    "            #saving results for current Name\n",
    "            ERName_Test_LIST.append(Name)\n",
    "            Recommendation_List.append(TOP_K)\n",
    "        return ERName_Test_LIST,Recommendation_List\n",
    "    ##################################################################################  \n",
    "    def Custom_Recommend_SOLID(model,K_recommends,Training_Data,ER_ID,solid_VRM_ACTIVE_df):\n",
    "        Training_Data.rename(columns = {'ER_ID':'ER ID'}, inplace = True)\n",
    "        Training_Data.rename(columns = {'ER_NAME':'ER NAME'}, inplace = True)\n",
    "        print(Training_Data.columns)\n",
    "        ER_Names=Training_Data[['ER ID','ER NAME']]\n",
    "        Training_Data.drop(['SOLID','ER ID','ER NAME'],axis=1,inplace=True)\n",
    "        Features=Training_Data\n",
    "        Features['LAST DATE OF VISIT'] = Features['LAST DATE OF VISIT'].replace(['NOT_VISITED'], 9999)\n",
    "        dates=Features['LAST DATE OF VISIT'].values\n",
    "        today = datetime.date.today()\n",
    "        for index in range(0,Features.shape[0]):\n",
    "            if dates[index]!=9999:\n",
    "                date_time_str = dates[index]\n",
    "                date_time_obj = datetime.datetime.strptime(date_time_str, '%d %b %Y')\n",
    "                date_time_obj = date_time_obj.date()\n",
    "                diff=today-date_time_obj\n",
    "                dates[index]=int(diff.days)\n",
    "        Features.drop(['CITY','STATE','BRANCH'],axis=1,inplace=True)  \n",
    "        Features['LAST DATE OF VISIT']=Features['LAST DATE OF VISIT'].astype(int)\n",
    "        objcolumnsName = Features.columns[Features.dtypes == 'object']\n",
    "        Final_Data=pd.get_dummies(Features, columns=objcolumnsName)\n",
    "        #print(Final_Data.shape)\n",
    "        Final_Data.insert(loc=0, column='ER ID', value=ER_Names['ER ID'].values)\n",
    "        Final_Data.insert(loc=1, column='ER Name', value=ER_Names['ER NAME'].values)\n",
    "        Final_Data.drop_duplicates(subset=['ER ID','ER Name'], keep=\"last\",inplace=True)\n",
    "\n",
    "        Final_Data=Final_Data[Final_Data['ER ID']==str(ER_ID)]#selecting data for given ER_ID\n",
    "        SOL_IDs_Allocated_to_ER_ID= list(solid_VRM_ACTIVE_df[solid_VRM_ACTIVE_df['ER ID']==str(ER_ID)]['SOL_ID'].values)\n",
    "\n",
    "        ERName_Test=Final_Data[['ER ID','ER Name']]\n",
    "        Final_Data=Final_Data.drop(['ER ID','ER Name'],axis=1)\n",
    "        SOL_ID_list_asper_RF_model=model.classes_\n",
    "        ERName_Test_LIST,Recommendation_List=Solid_recommendations(model,K_recommends,ERName_Test,Final_Data,\\\n",
    "                                                                   SOL_ID_list_asper_RF_model,SOL_IDs_Allocated_to_ER_ID)\n",
    "        return ERName_Test,Recommendation_List    "
   ]
  },
  {
   "cell_type": "markdown",
   "id": "3ceea5a0",
   "metadata": {},
   "source": [
    "# Custom Recommendations"
   ]
  },
  {
   "cell_type": "code",
   "execution_count": 149,
   "id": "4e83e687",
   "metadata": {},
   "outputs": [],
   "source": [
    "\n",
    "def Top_K_Rec(rec_list,K,SOL_IDs_Allocated_to_ER_ID):\n",
    "    final_dic={k: v for k, v in sorted(rec_list.items(), key=lambda item: item[1],reverse=True)}\n",
    "    solid_numbers=list(final_dic.keys())# sorted solid based on high prob score\n",
    "    score=list(final_dic.values())\n",
    "    #print(\"Top\",K,\"Recommendations\")\n",
    "    TOP_K=[]\n",
    "    for index in range(len(solid_numbers)):\n",
    "        if solid_numbers[index] in SOL_IDs_Allocated_to_ER_ID:#check condition for solid allocated\n",
    "            TOP_K.append(solid_numbers[index])   \n",
    "        if len(TOP_K)==K:\n",
    "            break\n",
    "    return TOP_K\n",
    "#############################################################################################################\n",
    "def Solid_recommendations(model,K_recommends,ERName_Test,testing_data,SOL_ID_list_asper_RF_model,SOL_IDs_Allocated_to_ER_ID):\n",
    "    #INPUT\n",
    "    ERName_Test=ERName_Test[['ER ID']]# using er id and not er name\n",
    "    ERName_Test_LIST=[]\n",
    "    Recommendation_List=[]\n",
    "    for each_user_index in tqdm(range(ERName_Test.shape[0])):\n",
    "        user_sample=testing_data[each_user_index:each_user_index+1] #current user features\n",
    "        Name=ERName_Test.iloc[each_user_index][0] # Current user UCIC value\n",
    "        #customers features input\n",
    "        # solid recommendations\n",
    "        prediction_prob=model.predict_proba(user_sample)[0]\n",
    "        tup_logo_score_dic={} #empty dic\n",
    "        #all logo with prob\n",
    "        for l_index in range(0,len(SOL_ID_list_asper_RF_model)):\n",
    "            \n",
    "            solid_number=SOL_ID_list_asper_RF_model[l_index]\n",
    "            tup_logo_score_dic[str(solid_number)]=prediction_prob[l_index]\n",
    "\n",
    "        #OUTPUT\n",
    "        K=K_recommends #no of recomm\n",
    "        TOP_K=Top_K_Rec(tup_logo_score_dic,K_recommends,SOL_IDs_Allocated_to_ER_ID) # Top K solid outputs\n",
    "        #saving results for current Name\n",
    "        ERName_Test_LIST.append(Name)\n",
    "        Recommendation_List.append(TOP_K)\n",
    "    return ERName_Test_LIST,Recommendation_List\n",
    "##################################################################################    \n",
    "    \n"
   ]
  },
  {
   "cell_type": "code",
   "execution_count": 150,
   "id": "1000a8f9",
   "metadata": {},
   "outputs": [],
   "source": [
    "def Custom_Recommend_SOLID(model,K_recommends,Training_Data,ER_ID,solid_VRM_ACTIVE_df):  \n",
    "   # Training_Data=Training_Data.rename(columns={'ER_ID':'ER ID','ER_NAME':'ER NAME'},in)# renaming columns from 'ER ID','ER NAME' to 'ER_ID','ER_NAME'\n",
    "   # Training_Data.rename(columns = {'ER_ID':'ER ID'}, inplace = True)\n",
    "   # Training_Data.rename(columns = {'ER_NAME':'ER NAME'}, inplace = True)\n",
    "    ER_Names=Training_Data[['ER ID','ER NAME']] \n",
    "    \n",
    "    Training_Data.drop(['SOLID','ER ID','ER NAME'],axis=1,inplace=True)\n",
    "    Features=Training_Data\n",
    "    ###########################################################\n",
    "    Features['LASTDATEOFVISIT'] = Features['LASTDATEOFVISIT'].replace(['NOT_VISITED'], 9999)\n",
    "    dates=Features['LASTDATEOFVISIT'].values\n",
    "    today = datetime.date.today()\n",
    "    for index in range(0,Features.shape[0]):\n",
    "        if dates[index]!=9999:\n",
    "            date_time_str = dates[index]\n",
    "            date_time_obj = datetime.datetime.strptime(date_time_str, '%d %b %Y')\n",
    "            date_time_obj = date_time_obj.date()\n",
    "            diff=today-date_time_obj\n",
    "            dates[index]=int(diff.days)\n",
    "    dates_updated=[]\n",
    "    for d_val in dates:\n",
    "        if d_val<0:\n",
    "            dates_updated.append(0)\n",
    "        else:\n",
    "            dates_updated.append(d_val)\n",
    "    Features['LASTDATEOFVISIT']=dates_updated\n",
    "    ############################################################\n",
    "    Features.drop(['CITY','STATE','BRANCH','Bnkchl_Open_Date','LOCATION_DESCRIPTION'],axis=1,inplace=True)  #Bnkchl_Open_year\n",
    "    #Features['LAST DATE OF VISIT']=Features['LAST DATE OF VISIT'].astype(int)\n",
    "    objcolumnsName = Features.columns[Features.dtypes == 'object']\n",
    "    Final_Data=pd.get_dummies(Features, columns=objcolumnsName)\n",
    "    Final_Data.insert(loc=0, column='ER ID', value=ER_Names['ER ID'].values)\n",
    "    Final_Data.insert(loc=1, column='ER Name', value=ER_Names['ER NAME'].values)\n",
    "    Final_Data.drop_duplicates(subset=['ER ID','ER Name'], keep=\"last\",inplace=True)\n",
    "    Final_Data=Final_Data[Final_Data['ER ID']==int(ER_ID)]#selecting data for given ER_ID\n",
    "    SOL_IDs_Allocated_to_ER_ID= list(solid_VRM_ACTIVE_df[solid_VRM_ACTIVE_df['ER ID']==str(ER_ID)]['SOL_ID'].values)\n",
    "    #print(Final_Data.columns)\n",
    "    ERName_Test=Final_Data[['ER ID','ER Name']]\n",
    "   # print(ERName_Test,\"abc\")\n",
    "    #print(Final_Data.columns)\n",
    "    Final_Data=Final_Data.drop(['ER ID','ER Name','Bnkchl_Open_year'],axis=1) #added Bnkchl_Open_year on 13 Dec to counter feature mismatch from model. In original version this was there in the model and  deleted later.\n",
    "\n",
    "    SOL_ID_list_asper_RF_model=model.classes_\n",
    "    #print(\"***\\n\",Final_Data.columns,\"***\\n\")\n",
    "    #print(ERName_Test,\"a\\n\",SOL_ID_list_asper_RF_model,\"a\\n\",Final_Data)\n",
    "    ERName_Test_LIST,Recommendation_List=Solid_recommendations(model,K_recommends,ERName_Test,Final_Data,\\\n",
    "                                                               SOL_ID_list_asper_RF_model,SOL_IDs_Allocated_to_ER_ID)\n",
    "    #print(\"b\",ERName_Test_LIST,Recommendation_List)\n",
    "    return ERName_Test,Recommendation_List"
   ]
  },
  {
   "cell_type": "code",
   "execution_count": null,
   "id": "2797bcf7",
   "metadata": {},
   "outputs": [],
   "source": [
    "model.feature_names"
   ]
  },
  {
   "cell_type": "code",
   "execution_count": 151,
   "id": "7df0aeb7",
   "metadata": {},
   "outputs": [],
   "source": [
    "#to_datetime year-date-month\n",
    "def validation_checking(ER_ID,ER_name,rec_list,Original_DF):\n",
    "    sample_df=Original_DF[(Original_DF['ER ID']==ER_ID) & (Original_DF['ER NAME']==ER_name)]\n",
    "    \n",
    "   # print(type(ER_ID),\"\\n\",ER_ID,\"\\n\")\n",
    "    #sample_df['ER ID']=sample_df['ER ID'].astype(int)\n",
    "    print(sample_df['SOLID'],\"\\n**\",rec_list)\n",
    "   # print(sample_df['ER ID'],\"\\n\",type(sample_df['ER ID']))\n",
    "    sample_df=sample_df[(sample_df['SOLID'].astype('str')).isin(rec_list)]\n",
    "    #print(sample_df,\"**\\n\")\n",
    "    \n",
    "    #sample_df=sample_df[['SOLID','ER ID','ER NAME', 'BRANCH', 'MEGA ZONE', 'Population_Category', 'LAST DATE OF VISIT','Latitude','Longitude','MODE OF VISIT', 'FOOTFALL', 'CONTROL NO', 'Branch_Vintage','Median_Branch_Vintage_Staff', 'Audit_rating', 'Attritions']]\n",
    "    #sample_df.drop_duplicates(inplace=True)\n",
    "    #sample_df['LASTDATEOFVISIT'] = pd.to_datetime(sample_df['LASTDATEOFVISIT'])\n",
    "    sample_df=sample_df.sort_values('LASTDATEOFVISIT').drop_duplicates('SOLID',keep='last') #latest date\n",
    "    #return sample_df\n",
    "    not_found_vist=list(set(rec_list).difference(set(sample_df['SOLID'].values)))\n",
    "    Not_Visited_DF=Original_DF[Original_DF['SOLID'].isin(not_found_vist)]#[['SOLID', 'BRANCH', 'MEGA ZONE', 'Population_Category','Latitude','Longitude','MODE OF VISIT', 'FOOTFALL', 'CONTROL NO', 'Branch_Vintage','Median_Branch_Vintage_Staff', 'Audit_rating', 'Attritions']]\n",
    "    Not_Visited_DF.drop_duplicates(inplace=True)\n",
    "    if 'ER ID' not in Not_Visited_DF.columns:\n",
    "        Not_Visited_DF.insert(loc=1, column='ER ID', value=ER_ID)\n",
    "    if 'ER NAME' not in Not_Visited_DF.columns:\n",
    "        Not_Visited_DF.insert(loc=2, column='ER NAME', value=ER_name)\n",
    "    if 'LASTDATEOFVISIT' not in Not_Visited_DF.columns:\n",
    "        Not_Visited_DF.insert(loc=6, column='LASTDATEOFVISIT', value='NOT_VISITED') \n",
    "    Result_df=pd.concat((sample_df,Not_Visited_DF),axis=0,ignore_index=True)\n",
    "    #print(Result_df)\n",
    "    return Result_df"
   ]
  },
  {
   "cell_type": "code",
   "execution_count": 152,
   "id": "e9490a9e",
   "metadata": {},
   "outputs": [],
   "source": [
    "#Loading\n",
    "import datetime\n",
    "from tqdm import tqdm\n",
    "import pandas as pd\n",
    "#Data=pd.read_csv('./python_data/Training_Data_with_lat_long_24-11-2022.csv',dtype={'ER ID':object,'SOLID':object})\n",
    "#Data=Data[['ER ID', 'ER NAME', 'SOLID', 'CITY', 'STATE', 'BRANCH', 'MEGA ZONE','Population_Category', 'GL_SIZE_31-10-2022', 'LAST DATE OF VISIT','MODE OF VISIT', 'FOOTFALL', 'CONTROL NO', 'Branch_Vintage','Median_Branch_Vintage_Staff', 'Audit_rating', 'Attritions','BRANCH_SIZE']]\n",
    "\n",
    "VRM_DATA_PATH='./python_data/VRM_DATA/'\n",
    "data_path_VRM_ACTIVE=VRM_DATA_PATH+'VRM_ACTIVE_1_data.xlsx'\n",
    "solid_VRM_ACTIVE_df=pd.read_excel(data_path_VRM_ACTIVE, dtype={'SOL_ID': 'str','ER ID': 'str'})\n",
    "solid_VRM_ACTIVE_df=solid_VRM_ACTIVE_df[['SOL_ID','ER ID','ER NAME']]\n",
    "solid_VRM_ACTIVE_df.drop_duplicates(inplace=True)\n",
    "solid_VRM_ACTIVE_df.dropna(inplace=True)"
   ]
  },
  {
   "cell_type": "code",
   "execution_count": null,
   "id": "885d3136",
   "metadata": {},
   "outputs": [],
   "source": [
    "zz=pd.read_excel(data_path_VRM_ACTIVE)\n",
    "zz"
   ]
  },
  {
   "cell_type": "code",
   "execution_count": 159,
   "id": "382fa695",
   "metadata": {},
   "outputs": [],
   "source": [
    "#Loading\n",
    "#Train_DF=pd.read_csv(VRM_DATA_PATH_JULY2023+'Training_Data_with_lat_long_25-07-2023.csv',dtype={'ER ID':object,'SOLID':object})"
   ]
  },
  {
   "cell_type": "code",
   "execution_count": 21,
   "id": "c42caf08",
   "metadata": {},
   "outputs": [],
   "source": [
    "Train_DF1=Train_DF #First\n",
    "#Train_DF=Train_DF1.copy() #second"
   ]
  },
  {
   "cell_type": "code",
   "execution_count": null,
   "id": "9bd08fdb",
   "metadata": {},
   "outputs": [],
   "source": [
    "df=pd.DataFrame"
   ]
  },
  {
   "cell_type": "code",
   "execution_count": null,
   "id": "96809024",
   "metadata": {},
   "outputs": [],
   "source": []
  },
  {
   "cell_type": "code",
   "execution_count": 153,
   "id": "0fd2d57a",
   "metadata": {},
   "outputs": [
    {
     "data": {
      "text/plain": [
       "0       28 Apr 2023\n",
       "1       28 Apr 2023\n",
       "2       28 Apr 2023\n",
       "3       28 Apr 2023\n",
       "4       28 Apr 2023\n",
       "           ...     \n",
       "9187    NOT_VISITED\n",
       "9188    NOT_VISITED\n",
       "9189    NOT_VISITED\n",
       "9190    NOT_VISITED\n",
       "9191    NOT_VISITED\n",
       "Name: LASTDATEOFVISIT, Length: 9192, dtype: object"
      ]
     },
     "execution_count": 153,
     "metadata": {},
     "output_type": "execute_result"
    }
   ],
   "source": [
    "#for i in range()\n",
    "#Train_DF['SOLID']=Train_DF['SOLID'].zfill()#\n",
    "Train_DF['LASTDATEOFVISIT']"
   ]
  },
  {
   "cell_type": "code",
   "execution_count": 160,
   "id": "e9dae7a9",
   "metadata": {},
   "outputs": [],
   "source": [
    "Train_DF.rename(columns = {'ER_ID':'ER ID'}, inplace = True)\n",
    "Train_DF.rename(columns = {'ER_NAME':'ER NAME'}, inplace = True)"
   ]
  },
  {
   "cell_type": "code",
   "execution_count": 161,
   "id": "6290ec87",
   "metadata": {},
   "outputs": [],
   "source": [
    "Train_DF.rename(columns = {'City':'CITY'}, inplace = True)\n",
    "Train_DF.rename(columns = {'State':'STATE'}, inplace = True)"
   ]
  },
  {
   "cell_type": "code",
   "execution_count": 156,
   "id": "b2c69e7b",
   "metadata": {},
   "outputs": [
    {
     "data": {
      "text/plain": [
       "Index(['Audit_rating', 'LASTDATEOFVISIT', 'MODEOFVISIT', 'ZONE', 'GL_SIZE',\n",
       "       'Total_Staff', 'CONTROL_NO', 'Latitude', 'Longitude',\n",
       "       'Population_Category', 'averagefootfall', 'Region', 'Branch_Vintage'],\n",
       "      dtype='object')"
      ]
     },
     "execution_count": 156,
     "metadata": {},
     "output_type": "execute_result"
    }
   ],
   "source": [
    "Features.columns"
   ]
  },
  {
   "cell_type": "code",
   "execution_count": null,
   "id": "4c55604c",
   "metadata": {},
   "outputs": [],
   "source": []
  },
  {
   "cell_type": "markdown",
   "id": "d9cc5fdc",
   "metadata": {},
   "source": [
    "# Json Dump"
   ]
  },
  {
   "cell_type": "code",
   "execution_count": 157,
   "id": "e04d777b",
   "metadata": {},
   "outputs": [
    {
     "ename": "NameError",
     "evalue": "name 'Top_K' is not defined",
     "output_type": "error",
     "traceback": [
      "\u001b[0;31m---------------------------------------------------------------------------\u001b[0m",
      "\u001b[0;31mNameError\u001b[0m                                 Traceback (most recent call last)",
      "\u001b[0;32m/tmp/ipykernel_4015888/1544195907.py\u001b[0m in \u001b[0;36m<module>\u001b[0;34m\u001b[0m\n\u001b[0;32m----> 1\u001b[0;31m \u001b[0mERName_Test_LIST\u001b[0m\u001b[0;34m,\u001b[0m\u001b[0mRecommendation_List\u001b[0m\u001b[0;34m=\u001b[0m\u001b[0mCustom_Recommend_SOLID\u001b[0m\u001b[0;34m(\u001b[0m\u001b[0mmodel\u001b[0m\u001b[0;34m,\u001b[0m\u001b[0mTop_K\u001b[0m\u001b[0;34m,\u001b[0m\u001b[0mTrain_DF\u001b[0m\u001b[0;34m,\u001b[0m\u001b[0mER_ID\u001b[0m\u001b[0;34m,\u001b[0m\u001b[0msolid_VRM_ACTIVE_df\u001b[0m\u001b[0;34m)\u001b[0m\u001b[0;34m\u001b[0m\u001b[0;34m\u001b[0m\u001b[0m\n\u001b[0m",
      "\u001b[0;31mNameError\u001b[0m: name 'Top_K' is not defined"
     ]
    }
   ],
   "source": [
    "\n",
    "ERName_Test_LIST,Recommendation_List=Custom_Recommend_SOLID(model,Top_K,Train_DF,ER_ID,solid_VRM_ACTIVE_df)"
   ]
  },
  {
   "cell_type": "code",
   "execution_count": null,
   "id": "1788db41",
   "metadata": {},
   "outputs": [],
   "source": [
    "Recommendation_List"
   ]
  },
  {
   "cell_type": "code",
   "execution_count": null,
   "id": "6faf0b71",
   "metadata": {},
   "outputs": [],
   "source": [
    "ERName_Test_LIST"
   ]
  },
  {
   "cell_type": "code",
   "execution_count": null,
   "id": "a4f36af1",
   "metadata": {},
   "outputs": [],
   "source": [
    "ERName_Test_LIST"
   ]
  },
  {
   "cell_type": "code",
   "execution_count": null,
   "id": "8814eea9",
   "metadata": {},
   "outputs": [],
   "source": [
    "Train_DF.columns"
   ]
  },
  {
   "cell_type": "code",
   "execution_count": 15,
   "id": "e7a574a1",
   "metadata": {},
   "outputs": [
    {
     "ename": "NameError",
     "evalue": "name 'Training_Data' is not defined",
     "output_type": "error",
     "traceback": [
      "\u001b[0;31m---------------------------------------------------------------------------\u001b[0m",
      "\u001b[0;31mNameError\u001b[0m                                 Traceback (most recent call last)",
      "\u001b[0;32m/tmp/ipykernel_345037/461081451.py\u001b[0m in \u001b[0;36m<module>\u001b[0;34m\u001b[0m\n\u001b[0;32m----> 1\u001b[0;31m \u001b[0mTraining_Data\u001b[0m\u001b[0;34m.\u001b[0m\u001b[0mrename\u001b[0m\u001b[0;34m(\u001b[0m\u001b[0mcolumns\u001b[0m \u001b[0;34m=\u001b[0m \u001b[0;34m{\u001b[0m\u001b[0;34m'ER_ID'\u001b[0m\u001b[0;34m:\u001b[0m\u001b[0;34m'ER ID'\u001b[0m\u001b[0;34m}\u001b[0m\u001b[0;34m,\u001b[0m \u001b[0minplace\u001b[0m \u001b[0;34m=\u001b[0m \u001b[0;32mTrue\u001b[0m\u001b[0;34m)\u001b[0m\u001b[0;34m\u001b[0m\u001b[0;34m\u001b[0m\u001b[0m\n\u001b[0m\u001b[1;32m      2\u001b[0m \u001b[0mTraining_Data\u001b[0m\u001b[0;34m.\u001b[0m\u001b[0mrename\u001b[0m\u001b[0;34m(\u001b[0m\u001b[0mcolumns\u001b[0m \u001b[0;34m=\u001b[0m \u001b[0;34m{\u001b[0m\u001b[0;34m'ER_NAME'\u001b[0m\u001b[0;34m:\u001b[0m\u001b[0;34m'ER NAME'\u001b[0m\u001b[0;34m}\u001b[0m\u001b[0;34m,\u001b[0m \u001b[0minplace\u001b[0m \u001b[0;34m=\u001b[0m \u001b[0;32mTrue\u001b[0m\u001b[0;34m)\u001b[0m\u001b[0;34m\u001b[0m\u001b[0;34m\u001b[0m\u001b[0m\n",
      "\u001b[0;31mNameError\u001b[0m: name 'Training_Data' is not defined"
     ]
    }
   ],
   "source": [
    "Training_Data.rename(columns = {'ER_ID':'ER ID'}, inplace = True)\n",
    "Training_Data.rename(columns = {'ER_NAME':'ER NAME'}, inplace = True)"
   ]
  },
  {
   "cell_type": "code",
   "execution_count": 163,
   "id": "847c7682",
   "metadata": {},
   "outputs": [
    {
     "data": {
      "text/plain": [
       "Index(['SOLID', 'Audit_rating', 'ER ID', 'ER NAME', 'LASTDATEOFVISIT',\n",
       "       'MODEOFVISIT', 'Bnkchl_Open_Date', 'BRANCH', 'ZONE', 'GL_SIZE',\n",
       "       'Total_Staff', 'CONTROL_NO', 'LOCATION_DESCRIPTION', 'Latitude',\n",
       "       'Longitude', 'CITY', 'STATE', 'Population_Category', 'averagefootfall',\n",
       "       'Bnkchl_Open_year', 'Branch_Vintage'],\n",
       "      dtype='object')"
      ]
     },
     "execution_count": 163,
     "metadata": {},
     "output_type": "execute_result"
    }
   ],
   "source": [
    "Train_DF.columns"
   ]
  },
  {
   "cell_type": "code",
   "execution_count": 16,
   "id": "08c19f72",
   "metadata": {},
   "outputs": [],
   "source": [
    "#Train_DF1.to_csv(VRM_DATA_PATH_JULY2023+'Train_DF1.csv')\n",
    "Train_DF=pd.read_csv(VRM_DATA_PATH_JULY2023+'Train_DF1.csv')\n",
    "Train_DF=Train_DF.drop('Unnamed: 0',axis=1)"
   ]
  },
  {
   "cell_type": "code",
   "execution_count": 62,
   "id": "9604bbcc",
   "metadata": {},
   "outputs": [
    {
     "data": {
      "text/plain": [
       "(9192, 22)"
      ]
     },
     "execution_count": 62,
     "metadata": {},
     "output_type": "execute_result"
    }
   ],
   "source": [
    "Train_DF.shape"
   ]
  },
  {
   "cell_type": "code",
   "execution_count": 66,
   "id": "5b7f7be6",
   "metadata": {},
   "outputs": [
    {
     "data": {
      "text/plain": [
       "85"
      ]
     },
     "execution_count": 66,
     "metadata": {},
     "output_type": "execute_result"
    }
   ],
   "source": [
    "#Train_DF['ER ID'].nunique()"
   ]
  },
  {
   "cell_type": "code",
   "execution_count": 164,
   "id": "a1c5d0a6",
   "metadata": {
    "scrolled": true
   },
   "outputs": [
    {
     "name": "stderr",
     "output_type": "stream",
     "text": [
      "  0%|          | 0/85 [00:00<?, ?it/s]\n",
      "  0%|          | 0/1 [00:00<?, ?it/s]\u001b[A/disk1/python/lib/python3.9/site-packages/sklearn/base.py:484: FutureWarning: The feature names should match those that were passed during fit. Starting version 1.2, an error will be raised.\n",
      "Feature names seen at fit time, yet now missing:\n",
      "- Region_Agartala Region\n",
      "- Region_Agra Region\n",
      "- Region_Ahmedabad - Ashram Road Region\n",
      "- Region_Ahmedabad - Bapunagar Region\n",
      "- Region_Ahmedabad - Bopal Region\n",
      "- ...\n",
      "\n",
      "  warnings.warn(message, FutureWarning)\n",
      "  0%|          | 0/1 [00:00<?, ?it/s]\n",
      "  0%|          | 0/85 [00:00<?, ?it/s]\n"
     ]
    },
    {
     "ename": "ValueError",
     "evalue": "X has 172 features, but RandomForestClassifier is expecting 755 features as input.",
     "output_type": "error",
     "traceback": [
      "\u001b[0;31m---------------------------------------------------------------------------\u001b[0m",
      "\u001b[0;31mValueError\u001b[0m                                Traceback (most recent call last)",
      "\u001b[0;32m/tmp/ipykernel_4015888/619087186.py\u001b[0m in \u001b[0;36m<module>\u001b[0;34m\u001b[0m\n\u001b[1;32m      7\u001b[0m     \u001b[0mER_ID\u001b[0m\u001b[0;34m=\u001b[0m\u001b[0mint\u001b[0m\u001b[0;34m(\u001b[0m\u001b[0merid\u001b[0m\u001b[0;34m)\u001b[0m\u001b[0;34m\u001b[0m\u001b[0;34m\u001b[0m\u001b[0m\n\u001b[1;32m      8\u001b[0m     \u001b[0mData_DF\u001b[0m\u001b[0;34m=\u001b[0m\u001b[0mTrain_DF\u001b[0m\u001b[0;34m.\u001b[0m\u001b[0mcopy\u001b[0m\u001b[0;34m(\u001b[0m\u001b[0;34m)\u001b[0m\u001b[0;34m\u001b[0m\u001b[0;34m\u001b[0m\u001b[0m\n\u001b[0;32m----> 9\u001b[0;31m     \u001b[0mERName_Test_LIST\u001b[0m\u001b[0;34m,\u001b[0m\u001b[0mRecommendation_List\u001b[0m\u001b[0;34m=\u001b[0m\u001b[0mCustom_Recommend_SOLID\u001b[0m\u001b[0;34m(\u001b[0m\u001b[0mmodel\u001b[0m\u001b[0;34m,\u001b[0m\u001b[0mTop_K\u001b[0m\u001b[0;34m,\u001b[0m\u001b[0mData_DF\u001b[0m\u001b[0;34m,\u001b[0m\u001b[0mER_ID\u001b[0m\u001b[0;34m,\u001b[0m\u001b[0msolid_VRM_ACTIVE_df\u001b[0m\u001b[0;34m)\u001b[0m\u001b[0;31m### Recommendations\u001b[0m\u001b[0;34m\u001b[0m\u001b[0;34m\u001b[0m\u001b[0m\n\u001b[0m\u001b[1;32m     10\u001b[0m     \u001b[0;31m############################################\u001b[0m\u001b[0;34m\u001b[0m\u001b[0;34m\u001b[0m\u001b[0m\n\u001b[1;32m     11\u001b[0m     \u001b[0;31m#print(ERName_Test_LIST['ER ID'].values,\"\\n\",ERName_Test_LIST['ER Name'].values,\"\\n\",Recommendation_List)\u001b[0m\u001b[0;34m\u001b[0m\u001b[0;34m\u001b[0m\u001b[0m\n",
      "\u001b[0;32m/tmp/ipykernel_4015888/3485228670.py\u001b[0m in \u001b[0;36mCustom_Recommend_SOLID\u001b[0;34m(model, K_recommends, Training_Data, ER_ID, solid_VRM_ACTIVE_df)\u001b[0m\n\u001b[1;32m     44\u001b[0m     \u001b[0;31m#print(\"***\\n\",Final_Data.columns,\"***\\n\")\u001b[0m\u001b[0;34m\u001b[0m\u001b[0;34m\u001b[0m\u001b[0m\n\u001b[1;32m     45\u001b[0m     \u001b[0;31m#print(ERName_Test,\"a\\n\",SOL_ID_list_asper_RF_model,\"a\\n\",Final_Data)\u001b[0m\u001b[0;34m\u001b[0m\u001b[0;34m\u001b[0m\u001b[0m\n\u001b[0;32m---> 46\u001b[0;31m     ERName_Test_LIST,Recommendation_List=Solid_recommendations(model,K_recommends,ERName_Test,Final_Data,\\\n\u001b[0m\u001b[1;32m     47\u001b[0m                                                                SOL_ID_list_asper_RF_model,SOL_IDs_Allocated_to_ER_ID)\n\u001b[1;32m     48\u001b[0m     \u001b[0;31m#print(\"b\",ERName_Test_LIST,Recommendation_List)\u001b[0m\u001b[0;34m\u001b[0m\u001b[0;34m\u001b[0m\u001b[0m\n",
      "\u001b[0;32m/tmp/ipykernel_4015888/3003318712.py\u001b[0m in \u001b[0;36mSolid_recommendations\u001b[0;34m(model, K_recommends, ERName_Test, testing_data, SOL_ID_list_asper_RF_model, SOL_IDs_Allocated_to_ER_ID)\u001b[0m\n\u001b[1;32m     22\u001b[0m         \u001b[0;31m#customers features input\u001b[0m\u001b[0;34m\u001b[0m\u001b[0;34m\u001b[0m\u001b[0m\n\u001b[1;32m     23\u001b[0m         \u001b[0;31m# solid recommendations\u001b[0m\u001b[0;34m\u001b[0m\u001b[0;34m\u001b[0m\u001b[0m\n\u001b[0;32m---> 24\u001b[0;31m         \u001b[0mprediction_prob\u001b[0m\u001b[0;34m=\u001b[0m\u001b[0mmodel\u001b[0m\u001b[0;34m.\u001b[0m\u001b[0mpredict_proba\u001b[0m\u001b[0;34m(\u001b[0m\u001b[0muser_sample\u001b[0m\u001b[0;34m)\u001b[0m\u001b[0;34m[\u001b[0m\u001b[0;36m0\u001b[0m\u001b[0;34m]\u001b[0m\u001b[0;34m\u001b[0m\u001b[0;34m\u001b[0m\u001b[0m\n\u001b[0m\u001b[1;32m     25\u001b[0m         \u001b[0mtup_logo_score_dic\u001b[0m\u001b[0;34m=\u001b[0m\u001b[0;34m{\u001b[0m\u001b[0;34m}\u001b[0m \u001b[0;31m#empty dic\u001b[0m\u001b[0;34m\u001b[0m\u001b[0;34m\u001b[0m\u001b[0m\n\u001b[1;32m     26\u001b[0m         \u001b[0;31m#all logo with prob\u001b[0m\u001b[0;34m\u001b[0m\u001b[0;34m\u001b[0m\u001b[0m\n",
      "\u001b[0;32m/disk1/python/lib/python3.9/site-packages/sklearn/ensemble/_forest.py\u001b[0m in \u001b[0;36mpredict_proba\u001b[0;34m(self, X)\u001b[0m\n\u001b[1;32m    837\u001b[0m         \u001b[0mcheck_is_fitted\u001b[0m\u001b[0;34m(\u001b[0m\u001b[0mself\u001b[0m\u001b[0;34m)\u001b[0m\u001b[0;34m\u001b[0m\u001b[0;34m\u001b[0m\u001b[0m\n\u001b[1;32m    838\u001b[0m         \u001b[0;31m# Check data\u001b[0m\u001b[0;34m\u001b[0m\u001b[0;34m\u001b[0m\u001b[0m\n\u001b[0;32m--> 839\u001b[0;31m         \u001b[0mX\u001b[0m \u001b[0;34m=\u001b[0m \u001b[0mself\u001b[0m\u001b[0;34m.\u001b[0m\u001b[0m_validate_X_predict\u001b[0m\u001b[0;34m(\u001b[0m\u001b[0mX\u001b[0m\u001b[0;34m)\u001b[0m\u001b[0;34m\u001b[0m\u001b[0;34m\u001b[0m\u001b[0m\n\u001b[0m\u001b[1;32m    840\u001b[0m \u001b[0;34m\u001b[0m\u001b[0m\n\u001b[1;32m    841\u001b[0m         \u001b[0;31m# Assign chunk of trees to jobs\u001b[0m\u001b[0;34m\u001b[0m\u001b[0;34m\u001b[0m\u001b[0m\n",
      "\u001b[0;32m/disk1/python/lib/python3.9/site-packages/sklearn/ensemble/_forest.py\u001b[0m in \u001b[0;36m_validate_X_predict\u001b[0;34m(self, X)\u001b[0m\n\u001b[1;32m    566\u001b[0m         Validate X whenever one tries to predict, apply, predict_proba.\"\"\"\n\u001b[1;32m    567\u001b[0m         \u001b[0mcheck_is_fitted\u001b[0m\u001b[0;34m(\u001b[0m\u001b[0mself\u001b[0m\u001b[0;34m)\u001b[0m\u001b[0;34m\u001b[0m\u001b[0;34m\u001b[0m\u001b[0m\n\u001b[0;32m--> 568\u001b[0;31m         \u001b[0mX\u001b[0m \u001b[0;34m=\u001b[0m \u001b[0mself\u001b[0m\u001b[0;34m.\u001b[0m\u001b[0m_validate_data\u001b[0m\u001b[0;34m(\u001b[0m\u001b[0mX\u001b[0m\u001b[0;34m,\u001b[0m \u001b[0mdtype\u001b[0m\u001b[0;34m=\u001b[0m\u001b[0mDTYPE\u001b[0m\u001b[0;34m,\u001b[0m \u001b[0maccept_sparse\u001b[0m\u001b[0;34m=\u001b[0m\u001b[0;34m\"csr\"\u001b[0m\u001b[0;34m,\u001b[0m \u001b[0mreset\u001b[0m\u001b[0;34m=\u001b[0m\u001b[0;32mFalse\u001b[0m\u001b[0;34m)\u001b[0m\u001b[0;34m\u001b[0m\u001b[0;34m\u001b[0m\u001b[0m\n\u001b[0m\u001b[1;32m    569\u001b[0m         \u001b[0;32mif\u001b[0m \u001b[0missparse\u001b[0m\u001b[0;34m(\u001b[0m\u001b[0mX\u001b[0m\u001b[0;34m)\u001b[0m \u001b[0;32mand\u001b[0m \u001b[0;34m(\u001b[0m\u001b[0mX\u001b[0m\u001b[0;34m.\u001b[0m\u001b[0mindices\u001b[0m\u001b[0;34m.\u001b[0m\u001b[0mdtype\u001b[0m \u001b[0;34m!=\u001b[0m \u001b[0mnp\u001b[0m\u001b[0;34m.\u001b[0m\u001b[0mintc\u001b[0m \u001b[0;32mor\u001b[0m \u001b[0mX\u001b[0m\u001b[0;34m.\u001b[0m\u001b[0mindptr\u001b[0m\u001b[0;34m.\u001b[0m\u001b[0mdtype\u001b[0m \u001b[0;34m!=\u001b[0m \u001b[0mnp\u001b[0m\u001b[0;34m.\u001b[0m\u001b[0mintc\u001b[0m\u001b[0;34m)\u001b[0m\u001b[0;34m:\u001b[0m\u001b[0;34m\u001b[0m\u001b[0;34m\u001b[0m\u001b[0m\n\u001b[1;32m    570\u001b[0m             \u001b[0;32mraise\u001b[0m \u001b[0mValueError\u001b[0m\u001b[0;34m(\u001b[0m\u001b[0;34m\"No support for np.int64 index based sparse matrices\"\u001b[0m\u001b[0;34m)\u001b[0m\u001b[0;34m\u001b[0m\u001b[0;34m\u001b[0m\u001b[0m\n",
      "\u001b[0;32m/disk1/python/lib/python3.9/site-packages/sklearn/base.py\u001b[0m in \u001b[0;36m_validate_data\u001b[0;34m(self, X, y, reset, validate_separately, **check_params)\u001b[0m\n\u001b[1;32m    574\u001b[0m \u001b[0;34m\u001b[0m\u001b[0m\n\u001b[1;32m    575\u001b[0m         \u001b[0;32mif\u001b[0m \u001b[0;32mnot\u001b[0m \u001b[0mno_val_X\u001b[0m \u001b[0;32mand\u001b[0m \u001b[0mcheck_params\u001b[0m\u001b[0;34m.\u001b[0m\u001b[0mget\u001b[0m\u001b[0;34m(\u001b[0m\u001b[0;34m\"ensure_2d\"\u001b[0m\u001b[0;34m,\u001b[0m \u001b[0;32mTrue\u001b[0m\u001b[0;34m)\u001b[0m\u001b[0;34m:\u001b[0m\u001b[0;34m\u001b[0m\u001b[0;34m\u001b[0m\u001b[0m\n\u001b[0;32m--> 576\u001b[0;31m             \u001b[0mself\u001b[0m\u001b[0;34m.\u001b[0m\u001b[0m_check_n_features\u001b[0m\u001b[0;34m(\u001b[0m\u001b[0mX\u001b[0m\u001b[0;34m,\u001b[0m \u001b[0mreset\u001b[0m\u001b[0;34m=\u001b[0m\u001b[0mreset\u001b[0m\u001b[0;34m)\u001b[0m\u001b[0;34m\u001b[0m\u001b[0;34m\u001b[0m\u001b[0m\n\u001b[0m\u001b[1;32m    577\u001b[0m \u001b[0;34m\u001b[0m\u001b[0m\n\u001b[1;32m    578\u001b[0m         \u001b[0;32mreturn\u001b[0m \u001b[0mout\u001b[0m\u001b[0;34m\u001b[0m\u001b[0;34m\u001b[0m\u001b[0m\n",
      "\u001b[0;32m/disk1/python/lib/python3.9/site-packages/sklearn/base.py\u001b[0m in \u001b[0;36m_check_n_features\u001b[0;34m(self, X, reset)\u001b[0m\n\u001b[1;32m    393\u001b[0m \u001b[0;34m\u001b[0m\u001b[0m\n\u001b[1;32m    394\u001b[0m         \u001b[0;32mif\u001b[0m \u001b[0mn_features\u001b[0m \u001b[0;34m!=\u001b[0m \u001b[0mself\u001b[0m\u001b[0;34m.\u001b[0m\u001b[0mn_features_in_\u001b[0m\u001b[0;34m:\u001b[0m\u001b[0;34m\u001b[0m\u001b[0;34m\u001b[0m\u001b[0m\n\u001b[0;32m--> 395\u001b[0;31m             raise ValueError(\n\u001b[0m\u001b[1;32m    396\u001b[0m                 \u001b[0;34mf\"X has {n_features} features, but {self.__class__.__name__} \"\u001b[0m\u001b[0;34m\u001b[0m\u001b[0;34m\u001b[0m\u001b[0m\n\u001b[1;32m    397\u001b[0m                 \u001b[0;34mf\"is expecting {self.n_features_in_} features as input.\"\u001b[0m\u001b[0;34m\u001b[0m\u001b[0;34m\u001b[0m\u001b[0m\n",
      "\u001b[0;31mValueError\u001b[0m: X has 172 features, but RandomForestClassifier is expecting 755 features as input."
     ]
    }
   ],
   "source": [
    "#INPUT############\n",
    "from tqdm import tqdm\n",
    "counter=0\n",
    "for erid in tqdm(set(Train_DF['ER ID'].values)):\n",
    "    Top_K=5\n",
    "    col_list=[\"Top_\"+str(i) for i in range(0,Top_K)]\n",
    "    ER_ID=int(erid)\n",
    "    Data_DF=Train_DF.copy()\n",
    "    ERName_Test_LIST,Recommendation_List=Custom_Recommend_SOLID(model,Top_K,Data_DF,ER_ID,solid_VRM_ACTIVE_df)### Recommendations\n",
    "    ############################################\n",
    "    #print(ERName_Test_LIST['ER ID'].values,\"\\n\",ERName_Test_LIST['ER Name'].values,\"\\n\",Recommendation_List)\n",
    "    #print(Recommendation_List)\n",
    "    if len(Recommendation_List)==0:\n",
    "        continue\n",
    "    #OUTPUT######\n",
    "    try:\n",
    "        Recommendation_df2 = pd.DataFrame.from_records(Recommendation_List,columns=col_list)\n",
    "    except:\n",
    "        difference=len(col_list)-len(Recommendation_List[0])\n",
    "        for i in range(difference):\n",
    "            Recommendation_List[0].append('Null')\n",
    "        Recommendation_df2 = pd.DataFrame.from_records(Recommendation_List,columns=col_list)    \n",
    "    Recommendation_df2.insert(loc=0, column='ER ID', value=ERName_Test_LIST['ER ID'].values)\n",
    "    Recommendation_df2.insert(loc=1, column='ER Names', value=ERName_Test_LIST['ER Name'].values)\n",
    "    #print(Recommendation_df2)\n",
    "    #Recommendation_df=pd.concat([Recommendation_df,Recommendation_df2],axis=0)\n",
    "    ER_ID=Recommendation_df2['ER ID'].iloc[0]\n",
    "    ER_name=Recommendation_df2['ER Names'].iloc[0]\n",
    "    #print(ER_ID,\"\\n\",ER_name)\n",
    "    rec_list=Recommendation_df2.iloc[0].values[2:]\n",
    "    rec_list=[str(i) for i in rec_list]\n",
    "    #print(rec_list)\n",
    "    #print(Recommendation_df.iloc[index])\n",
    "    if counter==0:\n",
    "        \n",
    "        Result_df=validation_checking(ER_ID,ER_name,rec_list,Train_DF)\n",
    "        #for col in ['BRANCH','LAST DATE OF VISIT']:\n",
    "            #if col in Result_df.columns:\n",
    "                #Result_df.drop_duplicates([col],inplace=True)\n",
    "        counter=1\n",
    "    else:\n",
    "        Result_df2=validation_checking(ER_ID,ER_name,rec_list,Train_DF)\n",
    "        #for col in ['BRANCH','LAST DATE OF VISIT']:\n",
    "            #if col in Result_df2.columns:\n",
    "                #Result_df2.drop_duplicates([col],inplace=True)\n",
    "        #print('abc')\n",
    "        Result_df=pd.concat([Result_df,Result_df2],axis=0)\n",
    "    "
   ]
  },
  {
   "cell_type": "code",
   "execution_count": 20,
   "id": "98b6920a",
   "metadata": {},
   "outputs": [],
   "source": [
    "#Experimental: take highest frequency region from the recommendations\n",
    "new_df=Result_df.groupby('ER ID')['Region'].agg(lambda x: (x.mode().iloc[0] if not x.mode().empty else None,x.count())).reset_index()\n",
    "#new_df.columns=['ER ID','moste_frequent_region','frequency']"
   ]
  },
  {
   "cell_type": "code",
   "execution_count": 21,
   "id": "310e31a8",
   "metadata": {},
   "outputs": [],
   "source": [
    "assigned_region=pd.DataFrame()"
   ]
  },
  {
   "cell_type": "code",
   "execution_count": 22,
   "id": "611619f7",
   "metadata": {},
   "outputs": [],
   "source": [
    "assigned_region['ER ID']=new_df['ER ID']\n",
    "assigned_region['Region']=new_df['Region']\n",
    "assigned_region['region_final']='abc'"
   ]
  },
  {
   "cell_type": "code",
   "execution_count": 23,
   "id": "752f20dd",
   "metadata": {},
   "outputs": [
    {
     "name": "stderr",
     "output_type": "stream",
     "text": [
      "/tmp/ipykernel_345037/1338813752.py:2: SettingWithCopyWarning: \n",
      "A value is trying to be set on a copy of a slice from a DataFrame\n",
      "\n",
      "See the caveats in the documentation: https://pandas.pydata.org/pandas-docs/stable/user_guide/indexing.html#returning-a-view-versus-a-copy\n",
      "  assigned_region['region_final'][i]=assigned_region['Region'][i][0]\n"
     ]
    }
   ],
   "source": [
    "for i in range(len(assigned_region)):\n",
    "    assigned_region['region_final'][i]=assigned_region['Region'][i][0]"
   ]
  },
  {
   "cell_type": "code",
   "execution_count": 24,
   "id": "d5b2e09c",
   "metadata": {},
   "outputs": [
    {
     "data": {
      "text/html": [
       "<div>\n",
       "<style scoped>\n",
       "    .dataframe tbody tr th:only-of-type {\n",
       "        vertical-align: middle;\n",
       "    }\n",
       "\n",
       "    .dataframe tbody tr th {\n",
       "        vertical-align: top;\n",
       "    }\n",
       "\n",
       "    .dataframe thead th {\n",
       "        text-align: right;\n",
       "    }\n",
       "</style>\n",
       "<table border=\"1\" class=\"dataframe\">\n",
       "  <thead>\n",
       "    <tr style=\"text-align: right;\">\n",
       "      <th></th>\n",
       "      <th>ER ID</th>\n",
       "      <th>Region</th>\n",
       "      <th>region_final</th>\n",
       "    </tr>\n",
       "  </thead>\n",
       "  <tbody>\n",
       "    <tr>\n",
       "      <th>0</th>\n",
       "      <td>164023</td>\n",
       "      <td>(New Delhi-Karol Bagh Region, 1)</td>\n",
       "      <td>New Delhi-Karol Bagh Region</td>\n",
       "    </tr>\n",
       "    <tr>\n",
       "      <th>1</th>\n",
       "      <td>184024</td>\n",
       "      <td>(Agra Region, 1)</td>\n",
       "      <td>Agra Region</td>\n",
       "    </tr>\n",
       "    <tr>\n",
       "      <th>2</th>\n",
       "      <td>271873</td>\n",
       "      <td>(Jb Nagar Region, 1)</td>\n",
       "      <td>Jb Nagar Region</td>\n",
       "    </tr>\n",
       "    <tr>\n",
       "      <th>3</th>\n",
       "      <td>290182</td>\n",
       "      <td>(Pandharpur Region, 2)</td>\n",
       "      <td>Pandharpur Region</td>\n",
       "    </tr>\n",
       "    <tr>\n",
       "      <th>4</th>\n",
       "      <td>297013</td>\n",
       "      <td>(Bhiwadi Region, 2)</td>\n",
       "      <td>Bhiwadi Region</td>\n",
       "    </tr>\n",
       "    <tr>\n",
       "      <th>5</th>\n",
       "      <td>334462</td>\n",
       "      <td>(Korba Region, 4)</td>\n",
       "      <td>Korba Region</td>\n",
       "    </tr>\n",
       "    <tr>\n",
       "      <th>6</th>\n",
       "      <td>337260</td>\n",
       "      <td>(Sonipat - 1 Region, 1)</td>\n",
       "      <td>Sonipat - 1 Region</td>\n",
       "    </tr>\n",
       "    <tr>\n",
       "      <th>7</th>\n",
       "      <td>364878</td>\n",
       "      <td>(Lower Parel Region, 1)</td>\n",
       "      <td>Lower Parel Region</td>\n",
       "    </tr>\n",
       "    <tr>\n",
       "      <th>8</th>\n",
       "      <td>365663</td>\n",
       "      <td>(Vidisha Region, 3)</td>\n",
       "      <td>Vidisha Region</td>\n",
       "    </tr>\n",
       "    <tr>\n",
       "      <th>9</th>\n",
       "      <td>385956</td>\n",
       "      <td>(Latur Region, 2)</td>\n",
       "      <td>Latur Region</td>\n",
       "    </tr>\n",
       "    <tr>\n",
       "      <th>10</th>\n",
       "      <td>386148</td>\n",
       "      <td>(Bhubaneshwar 3 Region, 2)</td>\n",
       "      <td>Bhubaneshwar 3 Region</td>\n",
       "    </tr>\n",
       "    <tr>\n",
       "      <th>11</th>\n",
       "      <td>388910</td>\n",
       "      <td>(Agra Region, 1)</td>\n",
       "      <td>Agra Region</td>\n",
       "    </tr>\n",
       "    <tr>\n",
       "      <th>12</th>\n",
       "      <td>390332</td>\n",
       "      <td>(Lower Parel Region, 1)</td>\n",
       "      <td>Lower Parel Region</td>\n",
       "    </tr>\n",
       "    <tr>\n",
       "      <th>13</th>\n",
       "      <td>401755</td>\n",
       "      <td>(Kota - 1 Region, 1)</td>\n",
       "      <td>Kota - 1 Region</td>\n",
       "    </tr>\n",
       "    <tr>\n",
       "      <th>14</th>\n",
       "      <td>404672</td>\n",
       "      <td>(Dahod Region, 1)</td>\n",
       "      <td>Dahod Region</td>\n",
       "    </tr>\n",
       "    <tr>\n",
       "      <th>15</th>\n",
       "      <td>411734</td>\n",
       "      <td>(Ulhasnagar Region, 1)</td>\n",
       "      <td>Ulhasnagar Region</td>\n",
       "    </tr>\n",
       "    <tr>\n",
       "      <th>16</th>\n",
       "      <td>414715</td>\n",
       "      <td>(Bangalore-Bellandur Region, 3)</td>\n",
       "      <td>Bangalore-Bellandur Region</td>\n",
       "    </tr>\n",
       "    <tr>\n",
       "      <th>17</th>\n",
       "      <td>414951</td>\n",
       "      <td>(Aundh Region, 1)</td>\n",
       "      <td>Aundh Region</td>\n",
       "    </tr>\n",
       "    <tr>\n",
       "      <th>18</th>\n",
       "      <td>414957</td>\n",
       "      <td>(Belgaum Region, 1)</td>\n",
       "      <td>Belgaum Region</td>\n",
       "    </tr>\n",
       "    <tr>\n",
       "      <th>19</th>\n",
       "      <td>414994</td>\n",
       "      <td>(Lower Parel Region, 2)</td>\n",
       "      <td>Lower Parel Region</td>\n",
       "    </tr>\n",
       "    <tr>\n",
       "      <th>20</th>\n",
       "      <td>416779</td>\n",
       "      <td>(Hyderabad-Begumpet Region, 1)</td>\n",
       "      <td>Hyderabad-Begumpet Region</td>\n",
       "    </tr>\n",
       "    <tr>\n",
       "      <th>21</th>\n",
       "      <td>418373</td>\n",
       "      <td>(Agra Region, 3)</td>\n",
       "      <td>Agra Region</td>\n",
       "    </tr>\n",
       "    <tr>\n",
       "      <th>22</th>\n",
       "      <td>420104</td>\n",
       "      <td>(Karaikudi Region, 1)</td>\n",
       "      <td>Karaikudi Region</td>\n",
       "    </tr>\n",
       "    <tr>\n",
       "      <th>23</th>\n",
       "      <td>420155</td>\n",
       "      <td>(Guwahati 4 Region, 1)</td>\n",
       "      <td>Guwahati 4 Region</td>\n",
       "    </tr>\n",
       "    <tr>\n",
       "      <th>24</th>\n",
       "      <td>420382</td>\n",
       "      <td>(Jaipur Malviya Nagar Region, 1)</td>\n",
       "      <td>Jaipur Malviya Nagar Region</td>\n",
       "    </tr>\n",
       "    <tr>\n",
       "      <th>25</th>\n",
       "      <td>428562</td>\n",
       "      <td>(Vidisha Region, 1)</td>\n",
       "      <td>Vidisha Region</td>\n",
       "    </tr>\n",
       "    <tr>\n",
       "      <th>26</th>\n",
       "      <td>431505</td>\n",
       "      <td>(Mumbai-Fort Branch, 1)</td>\n",
       "      <td>Mumbai-Fort Branch</td>\n",
       "    </tr>\n",
       "    <tr>\n",
       "      <th>27</th>\n",
       "      <td>460249</td>\n",
       "      <td>(Tanjore Region, 1)</td>\n",
       "      <td>Tanjore Region</td>\n",
       "    </tr>\n",
       "    <tr>\n",
       "      <th>28</th>\n",
       "      <td>461811</td>\n",
       "      <td>(Faridabad - 1 Region, 1)</td>\n",
       "      <td>Faridabad - 1 Region</td>\n",
       "    </tr>\n",
       "    <tr>\n",
       "      <th>29</th>\n",
       "      <td>461819</td>\n",
       "      <td>(Hyderabad-Charminar Region, 3)</td>\n",
       "      <td>Hyderabad-Charminar Region</td>\n",
       "    </tr>\n",
       "    <tr>\n",
       "      <th>30</th>\n",
       "      <td>463743</td>\n",
       "      <td>(Hyderabad-Charminar Region, 2)</td>\n",
       "      <td>Hyderabad-Charminar Region</td>\n",
       "    </tr>\n",
       "    <tr>\n",
       "      <th>31</th>\n",
       "      <td>463777</td>\n",
       "      <td>(Kolkata Salt Lake 1 Region, 2)</td>\n",
       "      <td>Kolkata Salt Lake 1 Region</td>\n",
       "    </tr>\n",
       "    <tr>\n",
       "      <th>32</th>\n",
       "      <td>464073</td>\n",
       "      <td>(Howrah 1 Region, 3)</td>\n",
       "      <td>Howrah 1 Region</td>\n",
       "    </tr>\n",
       "    <tr>\n",
       "      <th>33</th>\n",
       "      <td>464361</td>\n",
       "      <td>(Sangrur Region, 2)</td>\n",
       "      <td>Sangrur Region</td>\n",
       "    </tr>\n",
       "    <tr>\n",
       "      <th>34</th>\n",
       "      <td>487524</td>\n",
       "      <td>(Bhandara Region, 2)</td>\n",
       "      <td>Bhandara Region</td>\n",
       "    </tr>\n",
       "    <tr>\n",
       "      <th>35</th>\n",
       "      <td>487636</td>\n",
       "      <td>(Chandivali Region, 2)</td>\n",
       "      <td>Chandivali Region</td>\n",
       "    </tr>\n",
       "    <tr>\n",
       "      <th>36</th>\n",
       "      <td>495575</td>\n",
       "      <td>(Hyderabad-Financial District Region, 2)</td>\n",
       "      <td>Hyderabad-Financial District Region</td>\n",
       "    </tr>\n",
       "    <tr>\n",
       "      <th>37</th>\n",
       "      <td>495579</td>\n",
       "      <td>(Chandivali Region, 1)</td>\n",
       "      <td>Chandivali Region</td>\n",
       "    </tr>\n",
       "    <tr>\n",
       "      <th>38</th>\n",
       "      <td>845436</td>\n",
       "      <td>(Pondicherry Region, 1)</td>\n",
       "      <td>Pondicherry Region</td>\n",
       "    </tr>\n",
       "    <tr>\n",
       "      <th>39</th>\n",
       "      <td>847324</td>\n",
       "      <td>(Mulund Region, 3)</td>\n",
       "      <td>Mulund Region</td>\n",
       "    </tr>\n",
       "    <tr>\n",
       "      <th>40</th>\n",
       "      <td>847851</td>\n",
       "      <td>(Kannur Region, 2)</td>\n",
       "      <td>Kannur Region</td>\n",
       "    </tr>\n",
       "    <tr>\n",
       "      <th>41</th>\n",
       "      <td>852176</td>\n",
       "      <td>(Bandra East Region, 1)</td>\n",
       "      <td>Bandra East Region</td>\n",
       "    </tr>\n",
       "    <tr>\n",
       "      <th>42</th>\n",
       "      <td>854027</td>\n",
       "      <td>(Paradip Region, 3)</td>\n",
       "      <td>Paradip Region</td>\n",
       "    </tr>\n",
       "    <tr>\n",
       "      <th>43</th>\n",
       "      <td>856892</td>\n",
       "      <td>(Ajnala Region, 3)</td>\n",
       "      <td>Ajnala Region</td>\n",
       "    </tr>\n",
       "    <tr>\n",
       "      <th>44</th>\n",
       "      <td>857996</td>\n",
       "      <td>(Sikar Region, 1)</td>\n",
       "      <td>Sikar Region</td>\n",
       "    </tr>\n",
       "    <tr>\n",
       "      <th>45</th>\n",
       "      <td>859023</td>\n",
       "      <td>(Malegaon Region, 1)</td>\n",
       "      <td>Malegaon Region</td>\n",
       "    </tr>\n",
       "    <tr>\n",
       "      <th>46</th>\n",
       "      <td>863607</td>\n",
       "      <td>(Daltonganj Region, 4)</td>\n",
       "      <td>Daltonganj Region</td>\n",
       "    </tr>\n",
       "    <tr>\n",
       "      <th>47</th>\n",
       "      <td>865298</td>\n",
       "      <td>(Belapur Region, 2)</td>\n",
       "      <td>Belapur Region</td>\n",
       "    </tr>\n",
       "    <tr>\n",
       "      <th>48</th>\n",
       "      <td>869273</td>\n",
       "      <td>(Dewas Region, 3)</td>\n",
       "      <td>Dewas Region</td>\n",
       "    </tr>\n",
       "    <tr>\n",
       "      <th>49</th>\n",
       "      <td>869283</td>\n",
       "      <td>(Kota - 2 Region, 1)</td>\n",
       "      <td>Kota - 2 Region</td>\n",
       "    </tr>\n",
       "    <tr>\n",
       "      <th>50</th>\n",
       "      <td>888585</td>\n",
       "      <td>(Alwar Region, 2)</td>\n",
       "      <td>Alwar Region</td>\n",
       "    </tr>\n",
       "    <tr>\n",
       "      <th>51</th>\n",
       "      <td>90000907</td>\n",
       "      <td>(Chennai-Main Region, 4)</td>\n",
       "      <td>Chennai-Main Region</td>\n",
       "    </tr>\n",
       "    <tr>\n",
       "      <th>52</th>\n",
       "      <td>90001005</td>\n",
       "      <td>(Belgaum Region, 2)</td>\n",
       "      <td>Belgaum Region</td>\n",
       "    </tr>\n",
       "    <tr>\n",
       "      <th>53</th>\n",
       "      <td>90001156</td>\n",
       "      <td>(Mumbai-Fort Branch, 1)</td>\n",
       "      <td>Mumbai-Fort Branch</td>\n",
       "    </tr>\n",
       "    <tr>\n",
       "      <th>54</th>\n",
       "      <td>90001161</td>\n",
       "      <td>(Karad Region, 2)</td>\n",
       "      <td>Karad Region</td>\n",
       "    </tr>\n",
       "  </tbody>\n",
       "</table>\n",
       "</div>"
      ],
      "text/plain": [
       "       ER ID                                    Region  \\\n",
       "0     164023          (New Delhi-Karol Bagh Region, 1)   \n",
       "1     184024                          (Agra Region, 1)   \n",
       "2     271873                      (Jb Nagar Region, 1)   \n",
       "3     290182                    (Pandharpur Region, 2)   \n",
       "4     297013                       (Bhiwadi Region, 2)   \n",
       "5     334462                         (Korba Region, 4)   \n",
       "6     337260                   (Sonipat - 1 Region, 1)   \n",
       "7     364878                   (Lower Parel Region, 1)   \n",
       "8     365663                       (Vidisha Region, 3)   \n",
       "9     385956                         (Latur Region, 2)   \n",
       "10    386148                (Bhubaneshwar 3 Region, 2)   \n",
       "11    388910                          (Agra Region, 1)   \n",
       "12    390332                   (Lower Parel Region, 1)   \n",
       "13    401755                      (Kota - 1 Region, 1)   \n",
       "14    404672                         (Dahod Region, 1)   \n",
       "15    411734                    (Ulhasnagar Region, 1)   \n",
       "16    414715           (Bangalore-Bellandur Region, 3)   \n",
       "17    414951                         (Aundh Region, 1)   \n",
       "18    414957                       (Belgaum Region, 1)   \n",
       "19    414994                   (Lower Parel Region, 2)   \n",
       "20    416779            (Hyderabad-Begumpet Region, 1)   \n",
       "21    418373                          (Agra Region, 3)   \n",
       "22    420104                     (Karaikudi Region, 1)   \n",
       "23    420155                    (Guwahati 4 Region, 1)   \n",
       "24    420382          (Jaipur Malviya Nagar Region, 1)   \n",
       "25    428562                       (Vidisha Region, 1)   \n",
       "26    431505                   (Mumbai-Fort Branch, 1)   \n",
       "27    460249                       (Tanjore Region, 1)   \n",
       "28    461811                 (Faridabad - 1 Region, 1)   \n",
       "29    461819           (Hyderabad-Charminar Region, 3)   \n",
       "30    463743           (Hyderabad-Charminar Region, 2)   \n",
       "31    463777           (Kolkata Salt Lake 1 Region, 2)   \n",
       "32    464073                      (Howrah 1 Region, 3)   \n",
       "33    464361                       (Sangrur Region, 2)   \n",
       "34    487524                      (Bhandara Region, 2)   \n",
       "35    487636                    (Chandivali Region, 2)   \n",
       "36    495575  (Hyderabad-Financial District Region, 2)   \n",
       "37    495579                    (Chandivali Region, 1)   \n",
       "38    845436                   (Pondicherry Region, 1)   \n",
       "39    847324                        (Mulund Region, 3)   \n",
       "40    847851                        (Kannur Region, 2)   \n",
       "41    852176                   (Bandra East Region, 1)   \n",
       "42    854027                       (Paradip Region, 3)   \n",
       "43    856892                        (Ajnala Region, 3)   \n",
       "44    857996                         (Sikar Region, 1)   \n",
       "45    859023                      (Malegaon Region, 1)   \n",
       "46    863607                    (Daltonganj Region, 4)   \n",
       "47    865298                       (Belapur Region, 2)   \n",
       "48    869273                         (Dewas Region, 3)   \n",
       "49    869283                      (Kota - 2 Region, 1)   \n",
       "50    888585                         (Alwar Region, 2)   \n",
       "51  90000907                  (Chennai-Main Region, 4)   \n",
       "52  90001005                       (Belgaum Region, 2)   \n",
       "53  90001156                   (Mumbai-Fort Branch, 1)   \n",
       "54  90001161                         (Karad Region, 2)   \n",
       "\n",
       "                           region_final  \n",
       "0           New Delhi-Karol Bagh Region  \n",
       "1                           Agra Region  \n",
       "2                       Jb Nagar Region  \n",
       "3                     Pandharpur Region  \n",
       "4                        Bhiwadi Region  \n",
       "5                          Korba Region  \n",
       "6                    Sonipat - 1 Region  \n",
       "7                    Lower Parel Region  \n",
       "8                        Vidisha Region  \n",
       "9                          Latur Region  \n",
       "10                Bhubaneshwar 3 Region  \n",
       "11                          Agra Region  \n",
       "12                   Lower Parel Region  \n",
       "13                      Kota - 1 Region  \n",
       "14                         Dahod Region  \n",
       "15                    Ulhasnagar Region  \n",
       "16           Bangalore-Bellandur Region  \n",
       "17                         Aundh Region  \n",
       "18                       Belgaum Region  \n",
       "19                   Lower Parel Region  \n",
       "20            Hyderabad-Begumpet Region  \n",
       "21                          Agra Region  \n",
       "22                     Karaikudi Region  \n",
       "23                    Guwahati 4 Region  \n",
       "24          Jaipur Malviya Nagar Region  \n",
       "25                       Vidisha Region  \n",
       "26                   Mumbai-Fort Branch  \n",
       "27                       Tanjore Region  \n",
       "28                 Faridabad - 1 Region  \n",
       "29           Hyderabad-Charminar Region  \n",
       "30           Hyderabad-Charminar Region  \n",
       "31           Kolkata Salt Lake 1 Region  \n",
       "32                      Howrah 1 Region  \n",
       "33                       Sangrur Region  \n",
       "34                      Bhandara Region  \n",
       "35                    Chandivali Region  \n",
       "36  Hyderabad-Financial District Region  \n",
       "37                    Chandivali Region  \n",
       "38                   Pondicherry Region  \n",
       "39                        Mulund Region  \n",
       "40                        Kannur Region  \n",
       "41                   Bandra East Region  \n",
       "42                       Paradip Region  \n",
       "43                        Ajnala Region  \n",
       "44                         Sikar Region  \n",
       "45                      Malegaon Region  \n",
       "46                    Daltonganj Region  \n",
       "47                       Belapur Region  \n",
       "48                         Dewas Region  \n",
       "49                      Kota - 2 Region  \n",
       "50                         Alwar Region  \n",
       "51                  Chennai-Main Region  \n",
       "52                       Belgaum Region  \n",
       "53                   Mumbai-Fort Branch  \n",
       "54                         Karad Region  "
      ]
     },
     "execution_count": 24,
     "metadata": {},
     "output_type": "execute_result"
    }
   ],
   "source": [
    "assigned_region"
   ]
  },
  {
   "cell_type": "code",
   "execution_count": 36,
   "id": "2224de55",
   "metadata": {},
   "outputs": [],
   "source": [
    "assigned_Region1=assigned_region[['ER ID','region_final']]"
   ]
  },
  {
   "cell_type": "code",
   "execution_count": 37,
   "id": "de50ba8c",
   "metadata": {},
   "outputs": [],
   "source": [
    "# code to pick recommendations only from region_final\n",
    "merged_df=pd.merge(Result_df,assigned_Region1,on='ER ID')\n",
    "final_result_df=merged_df[merged_df['Region']==merged_df['region_final']]"
   ]
  },
  {
   "cell_type": "code",
   "execution_count": 27,
   "id": "24529a5b",
   "metadata": {},
   "outputs": [],
   "source": [
    "final_result_df=final_result_df.drop('region_final',axis=1)"
   ]
  },
  {
   "cell_type": "code",
   "execution_count": 38,
   "id": "41afda3f",
   "metadata": {},
   "outputs": [],
   "source": [
    "Result_df=final_result_df.copy()"
   ]
  },
  {
   "cell_type": "code",
   "execution_count": 39,
   "id": "cffa52eb",
   "metadata": {},
   "outputs": [],
   "source": [
    "Result_df.reset_index(inplace=True)"
   ]
  },
  {
   "cell_type": "code",
   "execution_count": 40,
   "id": "0d020518",
   "metadata": {},
   "outputs": [],
   "source": [
    "Result_df.drop(['index'],axis=1,inplace=True)"
   ]
  },
  {
   "cell_type": "code",
   "execution_count": null,
   "id": "030f79d7",
   "metadata": {},
   "outputs": [],
   "source": []
  },
  {
   "cell_type": "code",
   "execution_count": 41,
   "id": "76210897",
   "metadata": {},
   "outputs": [],
   "source": [
    "Result_df.drop(['Bnkchl_Open_year'],axis=1,inplace=True)"
   ]
  },
  {
   "cell_type": "code",
   "execution_count": 42,
   "id": "fb85ed26",
   "metadata": {},
   "outputs": [],
   "source": [
    "Result_df1=Result_df[['SOLID', 'ER ID', 'ER NAME','region_final']]"
   ]
  },
  {
   "cell_type": "code",
   "execution_count": 43,
   "id": "5176ae39",
   "metadata": {},
   "outputs": [
    {
     "data": {
      "text/html": [
       "<div>\n",
       "<style scoped>\n",
       "    .dataframe tbody tr th:only-of-type {\n",
       "        vertical-align: middle;\n",
       "    }\n",
       "\n",
       "    .dataframe tbody tr th {\n",
       "        vertical-align: top;\n",
       "    }\n",
       "\n",
       "    .dataframe thead th {\n",
       "        text-align: right;\n",
       "    }\n",
       "</style>\n",
       "<table border=\"1\" class=\"dataframe\">\n",
       "  <thead>\n",
       "    <tr style=\"text-align: right;\">\n",
       "      <th></th>\n",
       "      <th>SOLID</th>\n",
       "      <th>ER ID</th>\n",
       "      <th>ER NAME</th>\n",
       "      <th>region_final</th>\n",
       "    </tr>\n",
       "  </thead>\n",
       "  <tbody>\n",
       "    <tr>\n",
       "      <th>0</th>\n",
       "      <td>6438</td>\n",
       "      <td>271873</td>\n",
       "      <td>NIRANKAR ROYAL</td>\n",
       "      <td>Jb Nagar Region</td>\n",
       "    </tr>\n",
       "    <tr>\n",
       "      <th>1</th>\n",
       "      <td>3133</td>\n",
       "      <td>854027</td>\n",
       "      <td>MATRUJYOTI MANSINGH</td>\n",
       "      <td>Paradip Region</td>\n",
       "    </tr>\n",
       "    <tr>\n",
       "      <th>2</th>\n",
       "      <td>3274</td>\n",
       "      <td>854027</td>\n",
       "      <td>MATRUJYOTI MANSINGH</td>\n",
       "      <td>Paradip Region</td>\n",
       "    </tr>\n",
       "    <tr>\n",
       "      <th>3</th>\n",
       "      <td>6031</td>\n",
       "      <td>90000907</td>\n",
       "      <td>SANTHOSHKUMAR K R</td>\n",
       "      <td>Chennai-Main Region</td>\n",
       "    </tr>\n",
       "    <tr>\n",
       "      <th>4</th>\n",
       "      <td>6020</td>\n",
       "      <td>90000907</td>\n",
       "      <td>SANTHOSHKUMAR K R</td>\n",
       "      <td>Chennai-Main Region</td>\n",
       "    </tr>\n",
       "    <tr>\n",
       "      <th>...</th>\n",
       "      <td>...</td>\n",
       "      <td>...</td>\n",
       "      <td>...</td>\n",
       "      <td>...</td>\n",
       "    </tr>\n",
       "    <tr>\n",
       "      <th>57</th>\n",
       "      <td>1213</td>\n",
       "      <td>847324</td>\n",
       "      <td>SUSHREE PADHY</td>\n",
       "      <td>Mulund Region</td>\n",
       "    </tr>\n",
       "    <tr>\n",
       "      <th>58</th>\n",
       "      <td>2964</td>\n",
       "      <td>464361</td>\n",
       "      <td>ASTHA BARANWAL</td>\n",
       "      <td>Sangrur Region</td>\n",
       "    </tr>\n",
       "    <tr>\n",
       "      <th>59</th>\n",
       "      <td>1758</td>\n",
       "      <td>847851</td>\n",
       "      <td>BRIJESH NAND BISWAL</td>\n",
       "      <td>Kannur Region</td>\n",
       "    </tr>\n",
       "    <tr>\n",
       "      <th>60</th>\n",
       "      <td>7798</td>\n",
       "      <td>461811</td>\n",
       "      <td>SHUBHAM B SARASWAT</td>\n",
       "      <td>Faridabad - 1 Region</td>\n",
       "    </tr>\n",
       "    <tr>\n",
       "      <th>61</th>\n",
       "      <td>1075</td>\n",
       "      <td>414715</td>\n",
       "      <td>NEHA UPADHYAY</td>\n",
       "      <td>Bangalore-Bellandur Region</td>\n",
       "    </tr>\n",
       "  </tbody>\n",
       "</table>\n",
       "<p>62 rows × 4 columns</p>\n",
       "</div>"
      ],
      "text/plain": [
       "    SOLID     ER ID              ER NAME                region_final\n",
       "0    6438    271873       NIRANKAR ROYAL             Jb Nagar Region\n",
       "1    3133    854027  MATRUJYOTI MANSINGH              Paradip Region\n",
       "2    3274    854027  MATRUJYOTI MANSINGH              Paradip Region\n",
       "3    6031  90000907    SANTHOSHKUMAR K R         Chennai-Main Region\n",
       "4    6020  90000907    SANTHOSHKUMAR K R         Chennai-Main Region\n",
       "..    ...       ...                  ...                         ...\n",
       "57   1213    847324        SUSHREE PADHY               Mulund Region\n",
       "58   2964    464361       ASTHA BARANWAL              Sangrur Region\n",
       "59   1758    847851  BRIJESH NAND BISWAL               Kannur Region\n",
       "60   7798    461811   SHUBHAM B SARASWAT        Faridabad - 1 Region\n",
       "61   1075    414715        NEHA UPADHYAY  Bangalore-Bellandur Region\n",
       "\n",
       "[62 rows x 4 columns]"
      ]
     },
     "execution_count": 43,
     "metadata": {},
     "output_type": "execute_result"
    }
   ],
   "source": [
    "# recommendations\n",
    "Result_df1"
   ]
  },
  {
   "cell_type": "code",
   "execution_count": 45,
   "id": "0e6f1e53",
   "metadata": {},
   "outputs": [],
   "source": [
    "Result_df1.to_excel('Single Region Recommendations.xlsx')"
   ]
  },
  {
   "cell_type": "code",
   "execution_count": 199,
   "id": "e9bd5ba3",
   "metadata": {},
   "outputs": [
    {
     "name": "stderr",
     "output_type": "stream",
     "text": [
      "/tmp/ipykernel_2913438/4116188808.py:1: SettingWithCopyWarning: \n",
      "A value is trying to be set on a copy of a slice from a DataFrame.\n",
      "Try using .loc[row_indexer,col_indexer] = value instead\n",
      "\n",
      "See the caveats in the documentation: https://pandas.pydata.org/pandas-docs/stable/user_guide/indexing.html#returning-a-view-versus-a-copy\n",
      "  Result_df1['ER ID']=Result_df1['ER ID'].astype(str)\n"
     ]
    }
   ],
   "source": [
    "Result_df1['ER ID']=Result_df1['ER ID'].astype(str)"
   ]
  },
  {
   "cell_type": "code",
   "execution_count": null,
   "id": "52880b0f",
   "metadata": {},
   "outputs": [],
   "source": [
    "#Result_df1['ER ID']=[i.replace('.0','') for i in Result_df1['ER ID']]"
   ]
  },
  {
   "cell_type": "code",
   "execution_count": 201,
   "id": "bbeaaf2a",
   "metadata": {},
   "outputs": [],
   "source": [
    "Original_Data=pd.read_excel(VRM_DATA_PATH_JULY2023+'ERSystemAPI_Data_CompleteFeats_25-07-2023.xlsx',dtype={'SOLID':object,'ER_ID':object})"
   ]
  },
  {
   "cell_type": "code",
   "execution_count": null,
   "id": "2fcae274",
   "metadata": {},
   "outputs": [],
   "source": [
    "Original_Data"
   ]
  },
  {
   "cell_type": "code",
   "execution_count": null,
   "id": "e008279a",
   "metadata": {},
   "outputs": [],
   "source": [
    "Original_Data.drop(['ER_ID','ER_NAME'],axis=1,inplace=True)"
   ]
  },
  {
   "cell_type": "code",
   "execution_count": 202,
   "id": "efbaaffb",
   "metadata": {},
   "outputs": [
    {
     "data": {
      "text/html": [
       "<div>\n",
       "<style scoped>\n",
       "    .dataframe tbody tr th:only-of-type {\n",
       "        vertical-align: middle;\n",
       "    }\n",
       "\n",
       "    .dataframe tbody tr th {\n",
       "        vertical-align: top;\n",
       "    }\n",
       "\n",
       "    .dataframe thead th {\n",
       "        text-align: right;\n",
       "    }\n",
       "</style>\n",
       "<table border=\"1\" class=\"dataframe\">\n",
       "  <thead>\n",
       "    <tr style=\"text-align: right;\">\n",
       "      <th></th>\n",
       "      <th>SOLID</th>\n",
       "      <th>Audit_rating</th>\n",
       "      <th>ER_ID</th>\n",
       "      <th>ER_NAME</th>\n",
       "      <th>LASTDATEOFVISIT</th>\n",
       "      <th>MODEOFVISIT</th>\n",
       "      <th>Bnkchl_Open_Date</th>\n",
       "      <th>BRANCH</th>\n",
       "      <th>ZONE</th>\n",
       "      <th>GL_SIZE</th>\n",
       "      <th>Total_Staff</th>\n",
       "      <th>CONTROL_NO</th>\n",
       "      <th>LOCATION_DESCRIPTION</th>\n",
       "      <th>Latitude</th>\n",
       "      <th>Longitude</th>\n",
       "      <th>City</th>\n",
       "      <th>State</th>\n",
       "      <th>Population_Category</th>\n",
       "      <th>averagefootfall</th>\n",
       "    </tr>\n",
       "  </thead>\n",
       "  <tbody>\n",
       "    <tr>\n",
       "      <th>0</th>\n",
       "      <td>1606</td>\n",
       "      <td>NaN</td>\n",
       "      <td>463777</td>\n",
       "      <td>Saimi Kumar</td>\n",
       "      <td>NaN</td>\n",
       "      <td>NaN</td>\n",
       "      <td>20-JAN-2010</td>\n",
       "      <td>Howrah-Salkia</td>\n",
       "      <td>Kolkata 3</td>\n",
       "      <td>16220059.0</td>\n",
       "      <td>11.0</td>\n",
       "      <td>11.0</td>\n",
       "      <td>HOWRAH - GT ROAD_BR</td>\n",
       "      <td>22.597661</td>\n",
       "      <td>88.340583</td>\n",
       "      <td>Howrah</td>\n",
       "      <td>West Bengal</td>\n",
       "      <td>Metro</td>\n",
       "      <td>103.0</td>\n",
       "    </tr>\n",
       "    <tr>\n",
       "      <th>1</th>\n",
       "      <td>6583</td>\n",
       "      <td>NaN</td>\n",
       "      <td>461811</td>\n",
       "      <td>SHUBHAM B SARASWAT</td>\n",
       "      <td>NaN</td>\n",
       "      <td>NaN</td>\n",
       "      <td>12-AUG-2010</td>\n",
       "      <td>Sendhwa</td>\n",
       "      <td>Madhya Pradesh - RIB</td>\n",
       "      <td>20279338.0</td>\n",
       "      <td>14.0</td>\n",
       "      <td>NaN</td>\n",
       "      <td>SENDHWA - A.B.ROAD_BR</td>\n",
       "      <td>21.686222</td>\n",
       "      <td>75.095406</td>\n",
       "      <td>Sendhwa</td>\n",
       "      <td>Madhya Pradesh</td>\n",
       "      <td>Semi Urban</td>\n",
       "      <td>63.0</td>\n",
       "    </tr>\n",
       "    <tr>\n",
       "      <th>2</th>\n",
       "      <td>0004</td>\n",
       "      <td>NaN</td>\n",
       "      <td>876186</td>\n",
       "      <td>Srijoni Datta</td>\n",
       "      <td>28 Apr 2023</td>\n",
       "      <td>NaN</td>\n",
       "      <td>14-NOV-1994</td>\n",
       "      <td>Mumbai-Narimanpoint</td>\n",
       "      <td>Nariman Point</td>\n",
       "      <td>53934176.0</td>\n",
       "      <td>188.0</td>\n",
       "      <td>101.0</td>\n",
       "      <td>MUMBAI - NARIMAN POINT_BR</td>\n",
       "      <td>18.928390</td>\n",
       "      <td>72.822350</td>\n",
       "      <td>Mumbai</td>\n",
       "      <td>Maharashtra</td>\n",
       "      <td>Metro</td>\n",
       "      <td>279.0</td>\n",
       "    </tr>\n",
       "    <tr>\n",
       "      <th>3</th>\n",
       "      <td>1482</td>\n",
       "      <td>NaN</td>\n",
       "      <td>90001161</td>\n",
       "      <td>Akash Jaiswal</td>\n",
       "      <td>28 Apr 2023</td>\n",
       "      <td>NaN</td>\n",
       "      <td>14-AUG-2010</td>\n",
       "      <td>Ratnagiri-Subhashroad</td>\n",
       "      <td>Maharashtra South</td>\n",
       "      <td>39209107.0</td>\n",
       "      <td>10.0</td>\n",
       "      <td>NaN</td>\n",
       "      <td>RATNAGIRI - SUBASH ROAD_BR</td>\n",
       "      <td>16.991899</td>\n",
       "      <td>73.314102</td>\n",
       "      <td>Ratnagiri</td>\n",
       "      <td>Maharashtra</td>\n",
       "      <td>Semi Urban</td>\n",
       "      <td>67.0</td>\n",
       "    </tr>\n",
       "    <tr>\n",
       "      <th>4</th>\n",
       "      <td>0005</td>\n",
       "      <td>NaN</td>\n",
       "      <td>859023</td>\n",
       "      <td>Rachna Nair</td>\n",
       "      <td>30 Apr 2023</td>\n",
       "      <td>NaN</td>\n",
       "      <td>20-JAN-1995</td>\n",
       "      <td>Pune-Bundgarden</td>\n",
       "      <td>Pune 2</td>\n",
       "      <td>92815379.0</td>\n",
       "      <td>382.0</td>\n",
       "      <td>113.0</td>\n",
       "      <td>PUNE - BUND GARDENS_BR</td>\n",
       "      <td>18.523599</td>\n",
       "      <td>73.846496</td>\n",
       "      <td>Pune</td>\n",
       "      <td>Maharashtra</td>\n",
       "      <td>Metro</td>\n",
       "      <td>254.0</td>\n",
       "    </tr>\n",
       "  </tbody>\n",
       "</table>\n",
       "</div>"
      ],
      "text/plain": [
       "  SOLID  Audit_rating     ER_ID             ER_NAME LASTDATEOFVISIT  \\\n",
       "0  1606           NaN    463777         Saimi Kumar             NaN   \n",
       "1  6583           NaN    461811  SHUBHAM B SARASWAT             NaN   \n",
       "2  0004           NaN    876186       Srijoni Datta     28 Apr 2023   \n",
       "3  1482           NaN  90001161       Akash Jaiswal     28 Apr 2023   \n",
       "4  0005           NaN    859023         Rachna Nair     30 Apr 2023   \n",
       "\n",
       "  MODEOFVISIT Bnkchl_Open_Date                 BRANCH                  ZONE  \\\n",
       "0         NaN      20-JAN-2010          Howrah-Salkia             Kolkata 3   \n",
       "1         NaN      12-AUG-2010                Sendhwa  Madhya Pradesh - RIB   \n",
       "2         NaN      14-NOV-1994    Mumbai-Narimanpoint         Nariman Point   \n",
       "3         NaN      14-AUG-2010  Ratnagiri-Subhashroad     Maharashtra South   \n",
       "4         NaN      20-JAN-1995        Pune-Bundgarden                Pune 2   \n",
       "\n",
       "      GL_SIZE  Total_Staff  CONTROL_NO        LOCATION_DESCRIPTION   Latitude  \\\n",
       "0  16220059.0         11.0        11.0         HOWRAH - GT ROAD_BR  22.597661   \n",
       "1  20279338.0         14.0         NaN       SENDHWA - A.B.ROAD_BR  21.686222   \n",
       "2  53934176.0        188.0       101.0   MUMBAI - NARIMAN POINT_BR  18.928390   \n",
       "3  39209107.0         10.0         NaN  RATNAGIRI - SUBASH ROAD_BR  16.991899   \n",
       "4  92815379.0        382.0       113.0      PUNE - BUND GARDENS_BR  18.523599   \n",
       "\n",
       "   Longitude        City           State Population_Category  averagefootfall  \n",
       "0  88.340583      Howrah     West Bengal               Metro            103.0  \n",
       "1  75.095406     Sendhwa  Madhya Pradesh          Semi Urban             63.0  \n",
       "2  72.822350      Mumbai     Maharashtra               Metro            279.0  \n",
       "3  73.314102  Ratnagiri      Maharashtra          Semi Urban             67.0  \n",
       "4  73.846496        Pune     Maharashtra               Metro            254.0  "
      ]
     },
     "execution_count": 202,
     "metadata": {},
     "output_type": "execute_result"
    }
   ],
   "source": [
    "Original_Data.head()"
   ]
  },
  {
   "cell_type": "code",
   "execution_count": 203,
   "id": "413f3355",
   "metadata": {},
   "outputs": [],
   "source": [
    "Original_Data.drop_duplicates(inplace=True)"
   ]
  },
  {
   "cell_type": "code",
   "execution_count": 205,
   "id": "a7381974",
   "metadata": {},
   "outputs": [
    {
     "ename": "ValueError",
     "evalue": "You are trying to merge on int64 and object columns. If you wish to proceed you should use pd.concat",
     "output_type": "error",
     "traceback": [
      "\u001b[0;31m---------------------------------------------------------------------------\u001b[0m",
      "\u001b[0;31mValueError\u001b[0m                                Traceback (most recent call last)",
      "\u001b[0;32m/tmp/ipykernel_2913438/1120541538.py\u001b[0m in \u001b[0;36m<module>\u001b[0;34m\u001b[0m\n\u001b[0;32m----> 1\u001b[0;31m \u001b[0mFinal_Recommendation\u001b[0m\u001b[0;34m=\u001b[0m\u001b[0mpd\u001b[0m\u001b[0;34m.\u001b[0m\u001b[0mmerge\u001b[0m\u001b[0;34m(\u001b[0m\u001b[0mResult_df1\u001b[0m\u001b[0;34m,\u001b[0m\u001b[0mOriginal_Data\u001b[0m\u001b[0;34m,\u001b[0m\u001b[0mon\u001b[0m\u001b[0;34m=\u001b[0m\u001b[0;34m'SOLID'\u001b[0m\u001b[0;34m,\u001b[0m\u001b[0mhow\u001b[0m\u001b[0;34m=\u001b[0m\u001b[0;34m'left'\u001b[0m\u001b[0;34m)\u001b[0m\u001b[0;34m\u001b[0m\u001b[0;34m\u001b[0m\u001b[0m\n\u001b[0m",
      "\u001b[0;32m/disk1/python/lib/python3.9/site-packages/pandas/core/reshape/merge.py\u001b[0m in \u001b[0;36mmerge\u001b[0;34m(left, right, how, on, left_on, right_on, left_index, right_index, sort, suffixes, copy, indicator, validate)\u001b[0m\n\u001b[1;32m    105\u001b[0m     \u001b[0mvalidate\u001b[0m\u001b[0;34m:\u001b[0m \u001b[0mstr\u001b[0m \u001b[0;34m|\u001b[0m \u001b[0;32mNone\u001b[0m \u001b[0;34m=\u001b[0m \u001b[0;32mNone\u001b[0m\u001b[0;34m,\u001b[0m\u001b[0;34m\u001b[0m\u001b[0;34m\u001b[0m\u001b[0m\n\u001b[1;32m    106\u001b[0m ) -> DataFrame:\n\u001b[0;32m--> 107\u001b[0;31m     op = _MergeOperation(\n\u001b[0m\u001b[1;32m    108\u001b[0m         \u001b[0mleft\u001b[0m\u001b[0;34m,\u001b[0m\u001b[0;34m\u001b[0m\u001b[0;34m\u001b[0m\u001b[0m\n\u001b[1;32m    109\u001b[0m         \u001b[0mright\u001b[0m\u001b[0;34m,\u001b[0m\u001b[0;34m\u001b[0m\u001b[0;34m\u001b[0m\u001b[0m\n",
      "\u001b[0;32m/disk1/python/lib/python3.9/site-packages/pandas/core/reshape/merge.py\u001b[0m in \u001b[0;36m__init__\u001b[0;34m(self, left, right, how, on, left_on, right_on, axis, left_index, right_index, sort, suffixes, copy, indicator, validate)\u001b[0m\n\u001b[1;32m    702\u001b[0m         \u001b[0;31m# validate the merge keys dtypes. We may need to coerce\u001b[0m\u001b[0;34m\u001b[0m\u001b[0;34m\u001b[0m\u001b[0m\n\u001b[1;32m    703\u001b[0m         \u001b[0;31m# to avoid incompatible dtypes\u001b[0m\u001b[0;34m\u001b[0m\u001b[0;34m\u001b[0m\u001b[0m\n\u001b[0;32m--> 704\u001b[0;31m         \u001b[0mself\u001b[0m\u001b[0;34m.\u001b[0m\u001b[0m_maybe_coerce_merge_keys\u001b[0m\u001b[0;34m(\u001b[0m\u001b[0;34m)\u001b[0m\u001b[0;34m\u001b[0m\u001b[0;34m\u001b[0m\u001b[0m\n\u001b[0m\u001b[1;32m    705\u001b[0m \u001b[0;34m\u001b[0m\u001b[0m\n\u001b[1;32m    706\u001b[0m         \u001b[0;31m# If argument passed to validate,\u001b[0m\u001b[0;34m\u001b[0m\u001b[0;34m\u001b[0m\u001b[0m\n",
      "\u001b[0;32m/disk1/python/lib/python3.9/site-packages/pandas/core/reshape/merge.py\u001b[0m in \u001b[0;36m_maybe_coerce_merge_keys\u001b[0;34m(self)\u001b[0m\n\u001b[1;32m   1255\u001b[0m                     \u001b[0minferred_right\u001b[0m \u001b[0;32min\u001b[0m \u001b[0mstring_types\u001b[0m \u001b[0;32mand\u001b[0m \u001b[0minferred_left\u001b[0m \u001b[0;32mnot\u001b[0m \u001b[0;32min\u001b[0m \u001b[0mstring_types\u001b[0m\u001b[0;34m\u001b[0m\u001b[0;34m\u001b[0m\u001b[0m\n\u001b[1;32m   1256\u001b[0m                 ):\n\u001b[0;32m-> 1257\u001b[0;31m                     \u001b[0;32mraise\u001b[0m \u001b[0mValueError\u001b[0m\u001b[0;34m(\u001b[0m\u001b[0mmsg\u001b[0m\u001b[0;34m)\u001b[0m\u001b[0;34m\u001b[0m\u001b[0;34m\u001b[0m\u001b[0m\n\u001b[0m\u001b[1;32m   1258\u001b[0m \u001b[0;34m\u001b[0m\u001b[0m\n\u001b[1;32m   1259\u001b[0m             \u001b[0;31m# datetimelikes must match exactly\u001b[0m\u001b[0;34m\u001b[0m\u001b[0;34m\u001b[0m\u001b[0m\n",
      "\u001b[0;31mValueError\u001b[0m: You are trying to merge on int64 and object columns. If you wish to proceed you should use pd.concat"
     ]
    }
   ],
   "source": [
    "Final_Recommendation=pd.merge(Result_df1,Original_Data,on='SOLID',how='left')"
   ]
  },
  {
   "cell_type": "code",
   "execution_count": null,
   "id": "1c0de01f",
   "metadata": {},
   "outputs": [],
   "source": [
    "Result_df1['SOLID']=Result_df1['SOLID'].astype('str')"
   ]
  },
  {
   "cell_type": "code",
   "execution_count": null,
   "id": "bf4f83a4",
   "metadata": {},
   "outputs": [],
   "source": [
    "Final_Recommendation"
   ]
  },
  {
   "cell_type": "code",
   "execution_count": null,
   "id": "c2612cb5",
   "metadata": {},
   "outputs": [],
   "source": [
    "Add_Columns_DF.rename({'solId':'SOLID'},inplace=True,axis=1)\n",
    "Add_Columns_DF.columns"
   ]
  },
  {
   "cell_type": "code",
   "execution_count": null,
   "id": "3744fa3c",
   "metadata": {},
   "outputs": [],
   "source": [
    "Recommend_Result_DF = pd.merge(Final_Recommendation,Add_Columns_DF, on=['SOLID'], how='left')\n",
    "Recommend_Result_DF.head()"
   ]
  },
  {
   "cell_type": "code",
   "execution_count": null,
   "id": "86b6bfb0",
   "metadata": {},
   "outputs": [],
   "source": [
    "#duplicates were there at this stage in previous instances also , were later removed, bringing that code here itself.\n",
    "Recommend_Result_DF=Recommend_Result_DF.drop_duplicates(['SOLID','ER ID'],keep= 'last')"
   ]
  },
  {
   "cell_type": "code",
   "execution_count": 205,
   "id": "0f1fe6ba",
   "metadata": {},
   "outputs": [],
   "source": [
    "Train_DF=pd.read_csv(VRM_DATA_PATH_JULY2023+'Training_Data_with_lat_long_25-07-2023.csv',dtype={'ER ID':object,'SOLID':object})"
   ]
  },
  {
   "cell_type": "code",
   "execution_count": 206,
   "id": "8b7567fb",
   "metadata": {},
   "outputs": [
    {
     "data": {
      "text/html": [
       "<div>\n",
       "<style scoped>\n",
       "    .dataframe tbody tr th:only-of-type {\n",
       "        vertical-align: middle;\n",
       "    }\n",
       "\n",
       "    .dataframe tbody tr th {\n",
       "        vertical-align: top;\n",
       "    }\n",
       "\n",
       "    .dataframe thead th {\n",
       "        text-align: right;\n",
       "    }\n",
       "</style>\n",
       "<table border=\"1\" class=\"dataframe\">\n",
       "  <thead>\n",
       "    <tr style=\"text-align: right;\">\n",
       "      <th></th>\n",
       "      <th>SOLID</th>\n",
       "      <th>Audit_rating</th>\n",
       "      <th>ER_ID</th>\n",
       "      <th>ER_NAME</th>\n",
       "      <th>LASTDATEOFVISIT</th>\n",
       "      <th>MODEOFVISIT</th>\n",
       "      <th>Bnkchl_Open_Date</th>\n",
       "      <th>BRANCH</th>\n",
       "      <th>ZONE</th>\n",
       "      <th>GL_SIZE</th>\n",
       "      <th>...</th>\n",
       "      <th>CONTROL_NO</th>\n",
       "      <th>LOCATION_DESCRIPTION</th>\n",
       "      <th>Latitude</th>\n",
       "      <th>Longitude</th>\n",
       "      <th>City</th>\n",
       "      <th>State</th>\n",
       "      <th>Population_Category</th>\n",
       "      <th>averagefootfall</th>\n",
       "      <th>Bnkchl_Open_year</th>\n",
       "      <th>Branch_Vintage</th>\n",
       "    </tr>\n",
       "  </thead>\n",
       "  <tbody>\n",
       "    <tr>\n",
       "      <th>0</th>\n",
       "      <td>0004</td>\n",
       "      <td>Not_Rated</td>\n",
       "      <td>876186</td>\n",
       "      <td>Srijoni Datta</td>\n",
       "      <td>28 Apr 2023</td>\n",
       "      <td>Not_Defined</td>\n",
       "      <td>14-NOV-1994</td>\n",
       "      <td>Mumbai-Narimanpoint</td>\n",
       "      <td>Nariman Point</td>\n",
       "      <td>53934176.0</td>\n",
       "      <td>...</td>\n",
       "      <td>101</td>\n",
       "      <td>MUMBAI - NARIMAN POINT_BR</td>\n",
       "      <td>18.928390</td>\n",
       "      <td>72.822350</td>\n",
       "      <td>Mumbai</td>\n",
       "      <td>Maharashtra</td>\n",
       "      <td>Metro</td>\n",
       "      <td>279</td>\n",
       "      <td>1994</td>\n",
       "      <td>29</td>\n",
       "    </tr>\n",
       "    <tr>\n",
       "      <th>1</th>\n",
       "      <td>1482</td>\n",
       "      <td>Not_Rated</td>\n",
       "      <td>90001161</td>\n",
       "      <td>Akash Jaiswal</td>\n",
       "      <td>28 Apr 2023</td>\n",
       "      <td>Not_Defined</td>\n",
       "      <td>14-AUG-2010</td>\n",
       "      <td>Ratnagiri-Subhashroad</td>\n",
       "      <td>Maharashtra South</td>\n",
       "      <td>39209107.0</td>\n",
       "      <td>...</td>\n",
       "      <td>15</td>\n",
       "      <td>RATNAGIRI - SUBASH ROAD_BR</td>\n",
       "      <td>16.991899</td>\n",
       "      <td>73.314102</td>\n",
       "      <td>Ratnagiri</td>\n",
       "      <td>Maharashtra</td>\n",
       "      <td>Semi Urban</td>\n",
       "      <td>67</td>\n",
       "      <td>2010</td>\n",
       "      <td>13</td>\n",
       "    </tr>\n",
       "    <tr>\n",
       "      <th>2</th>\n",
       "      <td>0005</td>\n",
       "      <td>Not_Rated</td>\n",
       "      <td>859023</td>\n",
       "      <td>Rachna Nair</td>\n",
       "      <td>30 Apr 2023</td>\n",
       "      <td>Not_Defined</td>\n",
       "      <td>20-JAN-1995</td>\n",
       "      <td>Pune-Bundgarden</td>\n",
       "      <td>Pune 2</td>\n",
       "      <td>92815379.0</td>\n",
       "      <td>...</td>\n",
       "      <td>113</td>\n",
       "      <td>PUNE - BUND GARDENS_BR</td>\n",
       "      <td>18.523599</td>\n",
       "      <td>73.846496</td>\n",
       "      <td>Pune</td>\n",
       "      <td>Maharashtra</td>\n",
       "      <td>Metro</td>\n",
       "      <td>254</td>\n",
       "      <td>1995</td>\n",
       "      <td>28</td>\n",
       "    </tr>\n",
       "    <tr>\n",
       "      <th>3</th>\n",
       "      <td>0769</td>\n",
       "      <td>Not_Rated</td>\n",
       "      <td>859023</td>\n",
       "      <td>Rachna Nair</td>\n",
       "      <td>30 Apr 2023</td>\n",
       "      <td>Not_Defined</td>\n",
       "      <td>05-MAR-2008</td>\n",
       "      <td>Nandurbar</td>\n",
       "      <td>Maharashtra North</td>\n",
       "      <td>12910098.0</td>\n",
       "      <td>...</td>\n",
       "      <td>15</td>\n",
       "      <td>NANDURBAR - GHEE BAZAAR_BR</td>\n",
       "      <td>21.364999</td>\n",
       "      <td>74.240997</td>\n",
       "      <td>Nandurbar</td>\n",
       "      <td>Maharashtra</td>\n",
       "      <td>Urban</td>\n",
       "      <td>111</td>\n",
       "      <td>2008</td>\n",
       "      <td>15</td>\n",
       "    </tr>\n",
       "    <tr>\n",
       "      <th>4</th>\n",
       "      <td>1473</td>\n",
       "      <td>Not_Rated</td>\n",
       "      <td>90001161</td>\n",
       "      <td>Akash Jaiswal</td>\n",
       "      <td>08 May 2023</td>\n",
       "      <td>Not_Defined</td>\n",
       "      <td>18-AUG-2009</td>\n",
       "      <td>Indapur</td>\n",
       "      <td>Maharashtra South</td>\n",
       "      <td>31413743.0</td>\n",
       "      <td>...</td>\n",
       "      <td>15</td>\n",
       "      <td>INDAPUR-ST. BUS STAND_BR</td>\n",
       "      <td>18.116550</td>\n",
       "      <td>75.028350</td>\n",
       "      <td>Indapur</td>\n",
       "      <td>Maharashtra</td>\n",
       "      <td>Semi Urban</td>\n",
       "      <td>74</td>\n",
       "      <td>2009</td>\n",
       "      <td>14</td>\n",
       "    </tr>\n",
       "  </tbody>\n",
       "</table>\n",
       "<p>5 rows × 21 columns</p>\n",
       "</div>"
      ],
      "text/plain": [
       "  SOLID Audit_rating     ER_ID        ER_NAME LASTDATEOFVISIT  MODEOFVISIT  \\\n",
       "0  0004    Not_Rated    876186  Srijoni Datta     28 Apr 2023  Not_Defined   \n",
       "1  1482    Not_Rated  90001161  Akash Jaiswal     28 Apr 2023  Not_Defined   \n",
       "2  0005    Not_Rated    859023    Rachna Nair     30 Apr 2023  Not_Defined   \n",
       "3  0769    Not_Rated    859023    Rachna Nair     30 Apr 2023  Not_Defined   \n",
       "4  1473    Not_Rated  90001161  Akash Jaiswal     08 May 2023  Not_Defined   \n",
       "\n",
       "  Bnkchl_Open_Date                 BRANCH               ZONE     GL_SIZE  ...  \\\n",
       "0      14-NOV-1994    Mumbai-Narimanpoint      Nariman Point  53934176.0  ...   \n",
       "1      14-AUG-2010  Ratnagiri-Subhashroad  Maharashtra South  39209107.0  ...   \n",
       "2      20-JAN-1995        Pune-Bundgarden             Pune 2  92815379.0  ...   \n",
       "3      05-MAR-2008              Nandurbar  Maharashtra North  12910098.0  ...   \n",
       "4      18-AUG-2009                Indapur  Maharashtra South  31413743.0  ...   \n",
       "\n",
       "   CONTROL_NO        LOCATION_DESCRIPTION   Latitude  Longitude        City  \\\n",
       "0         101   MUMBAI - NARIMAN POINT_BR  18.928390  72.822350      Mumbai   \n",
       "1          15  RATNAGIRI - SUBASH ROAD_BR  16.991899  73.314102  Ratnagiri    \n",
       "2         113      PUNE - BUND GARDENS_BR  18.523599  73.846496        Pune   \n",
       "3          15  NANDURBAR - GHEE BAZAAR_BR  21.364999  74.240997  Nandurbar    \n",
       "4          15    INDAPUR-ST. BUS STAND_BR  18.116550  75.028350     Indapur   \n",
       "\n",
       "         State Population_Category averagefootfall  Bnkchl_Open_year  \\\n",
       "0  Maharashtra               Metro             279              1994   \n",
       "1  Maharashtra          Semi Urban              67              2010   \n",
       "2  Maharashtra               Metro             254              1995   \n",
       "3  Maharashtra               Urban             111              2008   \n",
       "4  Maharashtra          Semi Urban              74              2009   \n",
       "\n",
       "   Branch_Vintage  \n",
       "0              29  \n",
       "1              13  \n",
       "2              28  \n",
       "3              15  \n",
       "4              14  \n",
       "\n",
       "[5 rows x 21 columns]"
      ]
     },
     "execution_count": 206,
     "metadata": {},
     "output_type": "execute_result"
    }
   ],
   "source": [
    "Train_DF.head()"
   ]
  },
  {
   "cell_type": "code",
   "execution_count": null,
   "id": "8fbb8261",
   "metadata": {},
   "outputs": [],
   "source": [
    "\n",
    "Train_DF=Train_DF[['SOLID','Branch_Vintage']]\n",
    "Train_DF['SOLID']=Train_DF[\"SOLID\"].astype('str')"
   ]
  },
  {
   "cell_type": "code",
   "execution_count": null,
   "id": "b18cc31e",
   "metadata": {},
   "outputs": [],
   "source": [
    "Recommend_Result_DF_Final = pd.merge(Recommend_Result_DF,Train_DF, on=['SOLID'], how='left')\n",
    "Recommend_Result_DF_Final.head()"
   ]
  },
  {
   "cell_type": "code",
   "execution_count": null,
   "id": "b6483e5e",
   "metadata": {},
   "outputs": [],
   "source": [
    "#saving\n",
    "Recommend_Result_DF_Final.to_csv(VRM_DATA_PATH_JULY2023+'Recommend_Result_DF_25_07_2023.csv',index=False)"
   ]
  },
  {
   "cell_type": "code",
   "execution_count": 209,
   "id": "5e38276a",
   "metadata": {},
   "outputs": [],
   "source": [
    "#loading\n",
    "import pandas as pd \n",
    "Recommend_Result_DF_Final=pd.read_csv(VRM_DATA_PATH_JULY2023+'Recommend_Result_DF_25_07_2023.csv',dtype={'SOLID':object,\"ER ID\":object})"
   ]
  },
  {
   "cell_type": "code",
   "execution_count": null,
   "id": "f30f0c90",
   "metadata": {},
   "outputs": [],
   "source": [
    "Recommend_Result_DF_Final.drop_duplicates(inplace=True)"
   ]
  },
  {
   "cell_type": "code",
   "execution_count": null,
   "id": "236af253",
   "metadata": {},
   "outputs": [],
   "source": [
    "Recommend_Result_DF_Final['LASTDATEOFVISIT'].fillna(\"NULL\",inplace=True)"
   ]
  },
  {
   "cell_type": "code",
   "execution_count": null,
   "id": "5c512e77",
   "metadata": {},
   "outputs": [],
   "source": [
    "Recommend_Result_DF_Final.LASTDATEOFVISIT[Recommend_Result_DF_Final.LASTDATEOFVISIT == 'NULL'] = 'NOT_VISITED'"
   ]
  },
  {
   "cell_type": "code",
   "execution_count": null,
   "id": "cf1ba151",
   "metadata": {
    "scrolled": true
   },
   "outputs": [],
   "source": [
    "Recommend_Result_DF_Final['LASTDATEOFVISIT'].value_counts(dropna=False)"
   ]
  },
  {
   "cell_type": "code",
   "execution_count": null,
   "id": "5cd4118f",
   "metadata": {},
   "outputs": [],
   "source": [
    "Recommend_Result_DF_Final"
   ]
  },
  {
   "cell_type": "code",
   "execution_count": null,
   "id": "c67789eb",
   "metadata": {},
   "outputs": [],
   "source": [
    "Recommend_Result_DF=Recommend_Result_DF_Final.sort_values('LASTDATEOFVISIT')\n",
    "Recommend_Result_DF"
   ]
  },
  {
   "cell_type": "code",
   "execution_count": null,
   "id": "43c09638",
   "metadata": {},
   "outputs": [],
   "source": [
    "Recommend_Result_DF=Recommend_Result_DF.drop_duplicates(['SOLID','ER ID'],keep= 'last')"
   ]
  },
  {
   "cell_type": "code",
   "execution_count": null,
   "id": "8f5de425",
   "metadata": {},
   "outputs": [],
   "source": []
  },
  {
   "cell_type": "code",
   "execution_count": null,
   "id": "3356c22e",
   "metadata": {},
   "outputs": [],
   "source": [
    "#Regions are not present in final recommendation for some reason, bringing them here from Train_DF\n",
    "Train_DF['SOLID']=Train_DF['SOLID'].astype('str')\n",
    "Recommend_Result_DF_reg=pd.merge(Recommend_Result_DF,Train_DF[['SOLID','Region']],on='SOLID',how='left')"
   ]
  },
  {
   "cell_type": "code",
   "execution_count": 207,
   "id": "ca28f17a",
   "metadata": {},
   "outputs": [],
   "source": [
    "Recommend_Result_DF_Apr2023=pd.read_csv(VRM_DATA_PATH+'APR2023/Recommend_Result_DF_20_04_2023.csv',dtype=str)"
   ]
  },
  {
   "cell_type": "code",
   "execution_count": null,
   "id": "77af588d",
   "metadata": {},
   "outputs": [],
   "source": [
    "Recommend_Result_DF_Apr2023_SOLID_list=list(set(Recommend_Result_DF_Apr2023['SOLID'].to_list()))\n",
    "len(Recommend_Result_DF_Apr2023_SOLID_list)"
   ]
  },
  {
   "cell_type": "code",
   "execution_count": null,
   "id": "282936a9",
   "metadata": {},
   "outputs": [],
   "source": [
    "Recommend_Result_DF = Recommend_Result_DF[~Recommend_Result_DF['SOLID'].isin(Recommend_Result_DF_Apr2023_SOLID_list)]"
   ]
  },
  {
   "cell_type": "code",
   "execution_count": null,
   "id": "ffa5c00f",
   "metadata": {},
   "outputs": [],
   "source": [
    "Recommend_Result_DF.shape"
   ]
  },
  {
   "cell_type": "code",
   "execution_count": 206,
   "id": "704ec4d1",
   "metadata": {},
   "outputs": [
    {
     "ename": "NameError",
     "evalue": "name 'Recommend_Result_DF' is not defined",
     "output_type": "error",
     "traceback": [
      "\u001b[0;31m---------------------------------------------------------------------------\u001b[0m",
      "\u001b[0;31mNameError\u001b[0m                                 Traceback (most recent call last)",
      "\u001b[0;32m/tmp/ipykernel_2913438/2343475682.py\u001b[0m in \u001b[0;36m<module>\u001b[0;34m\u001b[0m\n\u001b[0;32m----> 1\u001b[0;31m \u001b[0mRecommend_Result_DF\u001b[0m\u001b[0;34m.\u001b[0m\u001b[0mhead\u001b[0m\u001b[0;34m(\u001b[0m\u001b[0;34m)\u001b[0m\u001b[0;34m\u001b[0m\u001b[0;34m\u001b[0m\u001b[0m\n\u001b[0m",
      "\u001b[0;31mNameError\u001b[0m: name 'Recommend_Result_DF' is not defined"
     ]
    }
   ],
   "source": [
    "Recommend_Result_DF.head()"
   ]
  },
  {
   "cell_type": "code",
   "execution_count": null,
   "id": "f487c470",
   "metadata": {},
   "outputs": [],
   "source": [
    "Recommend_Result_DF_reg.drop_duplicates()"
   ]
  },
  {
   "cell_type": "code",
   "execution_count": null,
   "id": "e6caf074",
   "metadata": {},
   "outputs": [],
   "source": [
    "Recommend_Result_DF_reg['LASTDATEOFVISIT'][4][0]"
   ]
  },
  {
   "cell_type": "code",
   "execution_count": null,
   "id": "91925205",
   "metadata": {},
   "outputs": [],
   "source": [
    "Recommend_Result_DF_reg['LASTDATEOFVISIT'][4][-8:]"
   ]
  },
  {
   "cell_type": "code",
   "execution_count": null,
   "id": "138ccb4e",
   "metadata": {},
   "outputs": [],
   "source": [
    "for i in range(len(Recommend_Result_DF_reg)):\n",
    "    if (Recommend_Result_DF_reg['LASTDATEOFVISIT'][i][-8:]==\"Jan 2023\"):#and Recommend_Result_DF_reg['LASTDATEOFVISIT'][i][-8:-5]=='Jan'):\n",
    "        print('a')"
   ]
  },
  {
   "cell_type": "code",
   "execution_count": null,
   "id": "e9c556c3",
   "metadata": {},
   "outputs": [],
   "source": [
    "custom_reg_df=Recommend_Result_DF_reg.loc[Recommend_Result_DF_reg['Region'].isin(regions_Punjab)]\n",
    "                                                                                "
   ]
  },
  {
   "cell_type": "code",
   "execution_count": null,
   "id": "70313233",
   "metadata": {},
   "outputs": [],
   "source": [
    "custom_reg_df=custom_reg_df.drop_duplicates()"
   ]
  },
  {
   "cell_type": "markdown",
   "id": "720f4c15",
   "metadata": {},
   "source": [
    "# Routing Distance"
   ]
  },
  {
   "cell_type": "code",
   "execution_count": null,
   "id": "89f729dd",
   "metadata": {},
   "outputs": [],
   "source": []
  },
  {
   "cell_type": "markdown",
   "id": "4d9c239c",
   "metadata": {},
   "source": [
    "# Final JSON DUMP for API"
   ]
  },
  {
   "cell_type": "code",
   "execution_count": null,
   "id": "59685d76",
   "metadata": {},
   "outputs": [],
   "source": [
    "LIST= [Recommend_Result_DF.iloc[index].to_dict() for index in range(Recommend_Result_DF.shape[0])]"
   ]
  },
  {
   "cell_type": "code",
   "execution_count": null,
   "id": "b36adb2d",
   "metadata": {},
   "outputs": [],
   "source": []
  },
  {
   "cell_type": "markdown",
   "id": "b3faa464",
   "metadata": {},
   "source": [
    "# final integration of shortest distance algorithm"
   ]
  },
  {
   "cell_type": "code",
   "execution_count": null,
   "id": "15728601",
   "metadata": {},
   "outputs": [],
   "source": [
    "LIST= [Recommend_Result_DF.iloc[index].to_dict() for index in range(Recommend_Result_DF.shape[0])]"
   ]
  },
  {
   "cell_type": "code",
   "execution_count": null,
   "id": "a0b0344f",
   "metadata": {},
   "outputs": [],
   "source": [
    "LIST"
   ]
  },
  {
   "cell_type": "code",
   "execution_count": null,
   "id": "16074a78",
   "metadata": {},
   "outputs": [],
   "source": [
    "import json\n",
    "path_json=VRM_DATA_PATH_JULY2023+'Recommendation_df_Original_25-07-2023.json'"
   ]
  },
  {
   "cell_type": "code",
   "execution_count": null,
   "id": "8b8d66f7",
   "metadata": {},
   "outputs": [],
   "source": [
    "type(LIST)"
   ]
  },
  {
   "cell_type": "code",
   "execution_count": null,
   "id": "7ba523f2",
   "metadata": {},
   "outputs": [],
   "source": [
    "import json\n",
    "with open(path_json, 'w') as f:\n",
    "    f.write(str(LIST))"
   ]
  },
  {
   "cell_type": "markdown",
   "id": "72ec5d0d",
   "metadata": {},
   "source": [
    "# Shortest Path"
   ]
  },
  {
   "cell_type": "code",
   "execution_count": null,
   "id": "d42f35c0",
   "metadata": {},
   "outputs": [],
   "source": [
    "recommendation={}\n",
    "x=Recommend_Result_DF['ER ID'].unique()\n",
    "x\n",
    "for i in x:\n",
    "    recommendation[i]=[]"
   ]
  },
  {
   "cell_type": "code",
   "execution_count": null,
   "id": "050c754d",
   "metadata": {},
   "outputs": [],
   "source": [
    "recommendation={}\n",
    "x=Recommend_Result_DF['ER ID'].unique()\n",
    "for i in x:\n",
    "    recommendation[i]=Recommend_Result_DF[Recommend_Result_DF['ER ID']==i]['SOLID'].to_list()"
   ]
  },
  {
   "cell_type": "code",
   "execution_count": null,
   "id": "383d1712",
   "metadata": {
    "scrolled": true
   },
   "outputs": [],
   "source": [
    "#extract ER ID\n",
    "\n",
    "  #recommendation[Recommend_Result_DF['ER ID'][0]]=[]\n",
    "    \n",
    "# this logic will break in case of single suggestion being at the last.\n",
    "  \n",
    "for i in range(0,len(Recommend_Result_DF)):\n",
    "      print(i)\n",
    "      if i==0:\n",
    "        if  Recommend_Result_DF['ER ID'][i]!=Recommend_Result_DF['ER ID'][i+1]:\n",
    "            recommendation[Recommend_Result_DF['ER ID'][i]].append(Recommend_Result_DF['SOLID'][i])\n",
    "        else:\n",
    "            recommendation[Recommend_Result_DF['ER ID'][i]].append(Recommend_Result_DF['SOLID'][i])\n",
    "    \n",
    "      else:\n",
    "        if i !=len(Recommend_Result_DF)-1 :\n",
    "            if Recommend_Result_DF['ER ID'][i]==Recommend_Result_DF['ER ID'][i-1]:\n",
    "                recommendation[Recommend_Result_DF['ER ID'][i]].append(Recommend_Result_DF['SOLID'][i])\n",
    "            elif Recommend_Result_DF['ER ID'][i]!=Recommend_Result_DF['ER ID'][i-1] and Recommend_Result_DF['ER ID'][i]==Recommend_Result_DF['ER ID'][i+1] :\n",
    "                recommendation[Recommend_Result_DF['ER ID'][i]].append(Recommend_Result_DF['SOLID'][i])\n",
    "            elif Recommend_Result_DF['ER ID'][i]!=Recommend_Result_DF['ER ID'][i-1] and Recommend_Result_DF['ER ID'][i]!=Recommend_Result_DF['ER ID'][i+1]:\n",
    "                recommendation[Recommend_Result_DF['ER ID'][i]].append(Recommend_Result_DF['SOLID'][i])\n",
    "        else:\n",
    "            if Recommend_Result_DF['ER ID'][i]!=Recommend_Result_DF['ER ID'][i-1]:\n",
    "                recommendation[Recommend_Result_DF['ER ID'][i]].append(Recommend_Result_DF['SOLID'][i])\n",
    "\n",
    "  "
   ]
  },
  {
   "cell_type": "code",
   "execution_count": null,
   "id": "2afd9d6f",
   "metadata": {},
   "outputs": [],
   "source": [
    "import pandas as pd\n",
    "import geopy as gp\n",
    "from geopy import distance\n",
    "from math import sin, cos, sqrt, atan2, radians\n",
    "import folium\n",
    "from IPython.display import display"
   ]
  },
  {
   "cell_type": "code",
   "execution_count": null,
   "id": "487dc4a9",
   "metadata": {},
   "outputs": [],
   "source": [
    "x=pd.read_csv('0911_Branch_Lat_long.csv')\n",
    "x.head()"
   ]
  },
  {
   "cell_type": "code",
   "execution_count": null,
   "id": "56a4b45f",
   "metadata": {},
   "outputs": [],
   "source": [
    "def read_lat_long(filename):\n",
    "    x=pd.read_csv(filename,encoding='ISO-8859-1')\n",
    "    return x"
   ]
  },
  {
   "cell_type": "code",
   "execution_count": null,
   "id": "eb26cc46",
   "metadata": {},
   "outputs": [],
   "source": [
    "def find_lat_long_from_sol_id(solid):\n",
    " x=read_lat_long('0911_Branch_Lat_long.csv')\n",
    " for i in range(len(x)):\n",
    "    if x['Sol ID'][i]==int(solid):\n",
    "        return (x['Latitude'][i]),(x['Longitude'][i])\n",
    "def find_branch_from_sol_id(solid):\n",
    "    x=read_lat_long('0911_Branch_Lat_long.csv')\n",
    "    for i in range(len(x)):\n",
    "        if x['Sol ID'][i]==int(solid):\n",
    "            return x['Branch-Name'][i]"
   ]
  },
  {
   "cell_type": "code",
   "execution_count": null,
   "id": "9169d560",
   "metadata": {},
   "outputs": [],
   "source": [
    "def get_distance(point1, point2):\n",
    "    R = 6370\n",
    "    lat1 = radians(point1[0])  #insert value\n",
    "    lon1 = radians(point1[1])\n",
    "    lat2 = radians(point2[0])\n",
    "    lon2 = radians(point2[1])\n",
    "\n",
    "    dlon = lon2 - lon1\n",
    "    dlat = lat2- lat1\n",
    "\n",
    "    a = sin(dlat / 2)**2 + cos(lat1) * cos(lat2) * sin(dlon / 2)**2\n",
    "    c = 2 * atan2(sqrt(a), sqrt(1-a))\n",
    "    distance = R * c\n",
    "    return distance"
   ]
  },
  {
   "cell_type": "code",
   "execution_count": null,
   "id": "e04101c6",
   "metadata": {},
   "outputs": [],
   "source": [
    "def dist(priority):\n",
    "    dictionary={}\n",
    "    distance=[]\n",
    "    for i in priority:\n",
    "        for j in priority:\n",
    "            if i==j:\n",
    "                dictionary[j]=0\n",
    "            else:\n",
    "                (lat1,long1)=find_lat_long_from_sol_id(i)\n",
    "                (lat2,long2)=find_lat_long_from_sol_id(j)\n",
    "                dist=get_distance((lat1,long1),(lat2,long2))\n",
    "                dictionary[j]=dist\n",
    "        distance.append(dictionary)\n",
    "        dictionary={}\n",
    "    return distance"
   ]
  },
  {
   "cell_type": "code",
   "execution_count": null,
   "id": "773657fc",
   "metadata": {},
   "outputs": [],
   "source": [
    "import networkx as nx\n",
    "import numpy as np\n",
    "\n",
    "def distance_adjency_matrix(branch_list):\n",
    "    distance_branches=[]\n",
    "    for i in branch_list:\n",
    "        temp=[]\n",
    "        for j in branch_list:\n",
    "            if i!=j:\n",
    "                (lat1,long1)=find_lat_long_from_sol_id(i)\n",
    "                (lat2,long2)=find_lat_long_from_sol_id(j)\n",
    "                dist=get_distance((lat1,long1),(lat2,long2))\n",
    "                temp.append(dist)\n",
    "               \n",
    "            else:\n",
    "                temp.append(0)\n",
    "        distance_branches.append(temp)\n",
    "    return distance_branches\n",
    "        \n",
    "        \n",
    "def shortest_path(source_branch,priority_order):\n",
    "    \n",
    "    branch_list=priority_order\n",
    "    #branch_list.append(source_branch)\n",
    "    distance_branches=distance_adjency_matrix(branch_list)\n",
    "    print(distance_branches)\n",
    "    #matrix_np = np.matrix(distance_branches)\n",
    "    adjency_DF=pd.DataFrame(distance_branches,index=priority_order,columns=priority_order)\n",
    "    original_graph = nx.from_pandas_adjacency(adjency_DF)\n",
    "    mst=nx.minimum_spanning_tree(original_graph,algorithm='kruskal')\n",
    "    return mst,original_graph,adjency_DF\n",
    "                \n",
    "    \n",
    "        \n",
    "    "
   ]
  },
  {
   "cell_type": "code",
   "execution_count": null,
   "id": "4bb0bf13",
   "metadata": {},
   "outputs": [],
   "source": [
    "priority2=list(Recommend_Result_DF[Recommend_Result_DF['ER ID']=='294623']['SOLID'].to_numpy())\n",
    "source_branch=priority2[0]\n",
    "mst,G,adjency_DF=shortest_path(source_branch,priority2)"
   ]
  },
  {
   "cell_type": "code",
   "execution_count": null,
   "id": "8aaf06e4",
   "metadata": {},
   "outputs": [],
   "source": [
    "\n",
    "nx.draw_networkx(nx.from_pandas_adjacency(adjency_DF))"
   ]
  },
  {
   "cell_type": "code",
   "execution_count": null,
   "id": "5996ce81",
   "metadata": {},
   "outputs": [],
   "source": [
    "pos = nx.circular_layout(mst)  \n",
    "nx.draw_networkx(mst,pos=pos) \n",
    "nx.draw_networkx_edge_labels(mst,pos,edge_labels=mst.edges)"
   ]
  },
  {
   "cell_type": "code",
   "execution_count": null,
   "id": "ca881a66",
   "metadata": {},
   "outputs": [],
   "source": [
    "Result_df=Recommend_Result_DF.copy()"
   ]
  },
  {
   "cell_type": "code",
   "execution_count": null,
   "id": "59df34e1",
   "metadata": {},
   "outputs": [],
   "source": [
    "#extraction of GL size,attrition,population category, phone, branch manager\n",
    "\n",
    "#def extract_gl(solid):\n",
    "\n",
    "def extract_branch_manager(solid):\n",
    "    x=pd.read_excel('SOL_BRANCH_DETAILS (1)')\n",
    "    \n",
    "    \n",
    "def extract_attrition(solid):\n",
    "    for i in range(len(Result_df)):\n",
    "        if Result_df[\"SOLID\"][i]==solid:\n",
    "            return Result_df['Attritions'][i]\n",
    "\n",
    "\n",
    "def extract_population_category(solid):\n",
    "    for i in range(len(Result_df)):\n",
    "        if Result_df[\"SOLID\"][i]==solid:\n",
    "            return Result_df['Population_Category'][i]\n",
    "        \n",
    "def extract_glsize(solid):\n",
    "    for i in range(len(Result_df)):\n",
    "        if Result_df[\"SOLID\"][i]==solid:\n",
    "            return Result_df['GL_SIZE'][i] \n",
    "        \n",
    "def extract_branchmangername(solid):\n",
    "    for i in range(len(Result_df)):\n",
    "        if Result_df[\"SOLID\"][i]==solid:\n",
    "            return Result_df['branchManager.displayName'][i]  \n",
    "        \n",
    "def extract_branchphone(solid):\n",
    "    for i in range(len(Result_df)):\n",
    "        if Result_df[\"SOLID\"][i]==solid:\n",
    "            return Result_df['branchLandlineNumber'][i]  "
   ]
  },
  {
   "cell_type": "code",
   "execution_count": null,
   "id": "3d8e5c8a",
   "metadata": {},
   "outputs": [],
   "source": [
    "for i in list(mst.edges):\n",
    "    lat1,long1=find_lat_long_from_sol_id(i[0])\n",
    "    lat2,long2=find_lat_long_from_sol_id(i[1])\n",
    "    folium.PolyLine(locations = [(lat1,long1),(lat2,long2)],\n",
    "                line_opacity = 0.5).add_to(mymap)\n",
    "    "
   ]
  },
  {
   "cell_type": "code",
   "execution_count": null,
   "id": "22858068",
   "metadata": {},
   "outputs": [],
   "source": [
    "#single function call to perform everything.\n",
    "def combined(priority_order):\n",
    "    # part one : find distances\n",
    "    x=dist(priority_order)\n",
    "    source_branch=priority_order[0]\n",
    "    mst,G,adjency_DF=shortest_path(source_branch,priority_order)\n",
    "    #draw graph\n",
    "    nx.draw_networkx(nx.from_pandas_adjacency(adjency_DF))\n",
    "    #draw mst\n",
    "    pos = nx.circular_layout(mst)  \n",
    "    nx.draw_networkx(mst,pos=pos) \n",
    "    nx.draw_networkx_edge_labels(mst,pos,edge_labels=mst.edges)\n",
    "    #draw single routes\n",
    "    priority_string=['very high','high','medium','low','very_low']\n",
    "    mymap=markonmap(priority2)\n",
    "    #print may not work\n",
    "    print(mymap)\n",
    "    for i in list(mst.edges):\n",
    "        lat1,long1=find_lat_long_from_sol_id(i[0])\n",
    "        lat2,long2=find_lat_long_from_sol_id(i[1])\n",
    "        folium.PolyLine(locations = [(lat1,long1),(lat2,long2)],\n",
    "                    line_opacity = 0.5).add_to(mymap)\n",
    "    #print may not work\n",
    "    print(mymap)\n",
    "    #draw multi route(FC graph of branches)\n",
    "    priority_string=['very high','high','medium','low','very_low']\n",
    "    mymap2=markonmap(priority2)\n",
    "    for i in list(G.edges):\n",
    "        lat1,long1=find_lat_long_from_sol_id(i[0])\n",
    "        lat2,long2=find_lat_long_from_sol_id(i[1])\n",
    "        folium.PolyLine(locations = [(lat1,long1),(lat2,long2)],line_opacity = 0.5).add_to(mymap2)\n",
    "    print(mymap2)\n",
    "        \n",
    "    return x,mst,G,adjency_df,mymap,mymap2\n",
    "\n",
    "\n",
    "\n",
    "    \n",
    "    \n",
    "    \n",
    "    \n",
    "    "
   ]
  },
  {
   "cell_type": "code",
   "execution_count": null,
   "id": "ea5c0a2d",
   "metadata": {},
   "outputs": [],
   "source": [
    "#add distance to output df\n",
    "from tqdm import tqdm\n",
    "distances={}\n",
    "for i in tqdm(recommendation):\n",
    "    #for j in recommendations[i]:\n",
    "       \n",
    "        x=dist(recommendation[i])\n",
    "        if x:\n",
    "            distances[i]=x[0]\n",
    "        \n",
    "          \n"
   ]
  },
  {
   "cell_type": "code",
   "execution_count": null,
   "id": "b2286c87",
   "metadata": {},
   "outputs": [],
   "source": [
    "#improvised for this use case \n",
    "import networkx as nx\n",
    "import numpy as np\n",
    "from networkx.algorithms import tree\n",
    "\n",
    "def distance_adjency_matrix(branch_list):\n",
    "    distance_branches=[]\n",
    "    for i in branch_list:\n",
    "        temp=[]\n",
    "        for j in branch_list:\n",
    "            if i!=j:\n",
    "                (lat1,long1)=find_lat_long_from_sol_id(i)\n",
    "                (lat2,long2)=find_lat_long_from_sol_id(j)\n",
    "                dist=get_distance((lat1,long1),(lat2,long2))\n",
    "                temp.append(dist)\n",
    "               \n",
    "            else:\n",
    "                temp.append(0)\n",
    "        distance_branches.append(temp)\n",
    "    return distance_branches\n",
    "        \n",
    "        \n",
    "def shortest_path(source_branch,priority_order):\n",
    "    \n",
    "    branch_list=priority_order\n",
    "    #branch_list.append(source_branch)\n",
    "    distance_branches=distance_adjency_matrix(branch_list)\n",
    "    #print(distance_branches)\n",
    "    #matrix_np = np.matrix(distance_branches)\n",
    "    adjency_DF=pd.DataFrame(distance_branches,index=priority_order,columns=priority_order)\n",
    "    original_graph = nx.from_pandas_adjacency(adjency_DF)\n",
    "    mst=tree.minimum_spanning_edges(original_graph, algorithm=\"kruskal\", data=False)\n",
    "    return mst,original_graph,adjency_DF\n",
    "                \n",
    "    \n",
    "        \n",
    "    "
   ]
  },
  {
   "cell_type": "code",
   "execution_count": null,
   "id": "ed41b519",
   "metadata": {},
   "outputs": [],
   "source": [
    "result={}\n",
    "for i in tqdm(distances):\n",
    "    mst,original_graph,adjency_DF=shortest_path(list(distances[i].keys())[0],distances[i].keys())\n",
    "   # temp=[]\n",
    "    \n",
    "    #temp.append(mst)\n",
    "    #temp.append(original_graph)\n",
    "    \n",
    "    #temp.append(adjency_DF)\n",
    "    result[i]=mst\n",
    "    "
   ]
  },
  {
   "cell_type": "code",
   "execution_count": null,
   "id": "d87f8c27",
   "metadata": {},
   "outputs": [],
   "source": [
    "\n"
   ]
  },
  {
   "cell_type": "code",
   "execution_count": null,
   "id": "86dfcb07",
   "metadata": {},
   "outputs": [],
   "source": [
    "result"
   ]
  },
  {
   "cell_type": "code",
   "execution_count": null,
   "id": "b9b4240f",
   "metadata": {},
   "outputs": [],
   "source": [
    "visit_order={}\n",
    "for i in result:\n",
    "    #print(result[i])\n",
    "    edgelist = list(result[i])\n",
    "    x=sorted(sorted(e) for e in edgelist)\n",
    "    visit_order[i]=x"
   ]
  },
  {
   "cell_type": "code",
   "execution_count": null,
   "id": "726f9f43",
   "metadata": {},
   "outputs": [],
   "source": [
    "visit_order['414951']\n"
   ]
  },
  {
   "cell_type": "code",
   "execution_count": null,
   "id": "091de2ea",
   "metadata": {},
   "outputs": [],
   "source": [
    "Recommend_Result_DF1=Recommend_Result_DF\n"
   ]
  },
  {
   "cell_type": "code",
   "execution_count": null,
   "id": "8b8eb375",
   "metadata": {},
   "outputs": [],
   "source": []
  },
  {
   "cell_type": "code",
   "execution_count": null,
   "id": "24486896",
   "metadata": {},
   "outputs": [],
   "source": [
    "def merge(visit_order):\n",
    "    q=[]\n",
    "    for i in visit_order:\n",
    "        if i[0]  not in q:\n",
    "            q.append(i[0])\n",
    "        if i[1]  not in q:\n",
    "            q.append(i[1])\n",
    "    return q"
   ]
  },
  {
   "cell_type": "code",
   "execution_count": null,
   "id": "f876ea91",
   "metadata": {},
   "outputs": [],
   "source": [
    "merged_visit_order={}\n",
    "for i in visit_order:\n",
    "    x=merge(visit_order[i])\n",
    "    merged_visit_order[i]=x"
   ]
  },
  {
   "cell_type": "code",
   "execution_count": null,
   "id": "946f7549",
   "metadata": {},
   "outputs": [],
   "source": [
    "merged_visit_order"
   ]
  },
  {
   "cell_type": "code",
   "execution_count": null,
   "id": "e0095575",
   "metadata": {},
   "outputs": [],
   "source": [
    "Recommend_Result_DF1['visit_order']=0"
   ]
  },
  {
   "cell_type": "code",
   "execution_count": null,
   "id": "8f07c42b",
   "metadata": {},
   "outputs": [],
   "source": [
    "Recommend_Result_DF1 = Recommend_Result_DF1.reset_index(drop=True)"
   ]
  },
  {
   "cell_type": "code",
   "execution_count": null,
   "id": "8602141f",
   "metadata": {},
   "outputs": [],
   "source": [
    "Recommend_Result_DF1"
   ]
  },
  {
   "cell_type": "code",
   "execution_count": null,
   "id": "6b92269f",
   "metadata": {},
   "outputs": [],
   "source": [
    "for i in range(len(Recommend_Result_DF1)):\n",
    "   for j in merged_visit_order:\n",
    "       print(i,j)\n",
    "       if Recommend_Result_DF1['ER ID'][i]==j:\n",
    "            for k in merged_visit_order[j]:\n",
    "                if Recommend_Result_DF1['SOLID'][i]==k:\n",
    "                  Recommend_Result_DF1['visit_order'][i]=(merged_visit_order[j].index(k))+1\n",
    "        \n",
    "\n",
    "        \n",
    "        #Recommend_Result_DF1['path'][i]=visit_order[j]\n",
    "      "
   ]
  },
  {
   "cell_type": "code",
   "execution_count": null,
   "id": "a740e083",
   "metadata": {},
   "outputs": [],
   "source": [
    "Recommend_Result_DF1.head(11)"
   ]
  },
  {
   "cell_type": "code",
   "execution_count": null,
   "id": "54b76585",
   "metadata": {},
   "outputs": [],
   "source": [
    "for i in  range(0,len(Recommend_Result_DF1)):\n",
    "    if Recommend_Result_DF1['visit_order'][i]==0:\n",
    "        Recommend_Result_DF1['visit_order'][i]=1\n",
    "        \n",
    "    "
   ]
  },
  {
   "cell_type": "code",
   "execution_count": null,
   "id": "5fb54b9e",
   "metadata": {},
   "outputs": [],
   "source": [
    "#saving\n",
    "Recommend_Result_DF1.to_csv(VRM_DATA_PATH_APR2023+'Recommend_Result_DF1_20_04_2023.csv',index=False)"
   ]
  },
  {
   "cell_type": "code",
   "execution_count": null,
   "id": "e4560d03",
   "metadata": {},
   "outputs": [],
   "source": [
    "#loading\n",
    "import pandas as pd \n",
    "Recommend_Result_DF1=pd.read_csv(VRM_DATA_PATH_APR2023+'Recommend_Result_DF1_20_04_2023.csv',dtype={'SOLID':object,'ER ID':object})"
   ]
  },
  {
   "cell_type": "code",
   "execution_count": null,
   "id": "51c3dd9a",
   "metadata": {},
   "outputs": [],
   "source": [
    "Recommend_Result_DF1"
   ]
  },
  {
   "cell_type": "code",
   "execution_count": null,
   "id": "7980ea08",
   "metadata": {},
   "outputs": [],
   "source": [
    "# Last March Month 288 recommendations were sent will start from 289 onwards\n",
    "Rec_number=[]\n",
    "for i in range(289,289+Recommend_Result_DF1.shape[0]):\n",
    "    Rec_number.append(i)\n",
    "print(len(Rec_number))\n",
    "    \n",
    "Recommend_Result_DF1.insert(loc=0, column='Recommend_No', value=Rec_number)"
   ]
  },
  {
   "cell_type": "code",
   "execution_count": null,
   "id": "6c6da101",
   "metadata": {},
   "outputs": [],
   "source": [
    "Recommend_Result_DF1"
   ]
  },
  {
   "cell_type": "code",
   "execution_count": null,
   "id": "2b2c7406",
   "metadata": {},
   "outputs": [],
   "source": [
    "Recommend_Result_DF1['SOLID']=Recommend_Result_DF1['SOLID'].astype(str)\n",
    "Recommend_Result_DF1['ER ID']=Recommend_Result_DF1['ER ID'].astype(str)"
   ]
  },
  {
   "cell_type": "code",
   "execution_count": null,
   "id": "8a96a47f",
   "metadata": {},
   "outputs": [],
   "source": [
    "Recommend_Result_DF1.to_json(orient=\"records\")"
   ]
  },
  {
   "cell_type": "code",
   "execution_count": null,
   "id": "9ce05479",
   "metadata": {},
   "outputs": [],
   "source": [
    "# storing the data in JSON format\n",
    "Recommend_Result_DF1.to_json('./python_data/Recommendations_Output/Recommend_Result_DF1_20_04_2023_purejson.json', orient = 'records')\n",
    " \n",
    "# reading the JSON file\n",
    "Recommend_Result_DF1 = pd.read_json('./python_data/Recommendations_Output/Recommend_Result_DF1_20_04_2023_purejson.json', orient ='records')"
   ]
  }
 ],
 "metadata": {
  "kernelspec": {
   "display_name": "Python 3 (ipykernel)",
   "language": "python",
   "name": "python3"
  },
  "language_info": {
   "codemirror_mode": {
    "name": "ipython",
    "version": 3
   },
   "file_extension": ".py",
   "mimetype": "text/x-python",
   "name": "python",
   "nbconvert_exporter": "python",
   "pygments_lexer": "ipython3",
   "version": "3.11.4"
  }
 },
 "nbformat": 4,
 "nbformat_minor": 5
}
